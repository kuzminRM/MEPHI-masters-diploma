{
 "cells": [
  {
   "cell_type": "code",
   "execution_count": 5,
   "metadata": {
    "collapsed": true,
    "ExecuteTime": {
     "end_time": "2025-04-07T09:19:50.819267880Z",
     "start_time": "2025-04-07T09:19:50.774873840Z"
    }
   },
   "outputs": [
    {
     "data": {
      "text/plain": "      id1                                             title1  \\\n0    4126  Диск пильный по дереву Trio-Diamond Forest Lon...   \n1    2196                            Рулетка Вихрь 5м х 19мм   \n2     847                        Вороток для сваи 108 мм НСЗ   \n3    9927  Выключатель автоматический двухполюсный C 50А ...   \n4     601  Плита гипсовая пазогребневая Кнауф полнотелая ...   \n..    ...                                                ...   \n71  12908                           Лючок 200х300 мм пластик   \n72   7343  Планка угловая МДФ Stella Ледяное дерево 2700х...   \n73   6478  Краска для влажных помещений Finncolor Oasis б...   \n74    562                         Веревка джутовая 6 мм 20 м   \n75  11754                      Заглушка Ostendorf KGM 160 мм   \n\n                                                 url1  \\\n0   https://www.sdvor.com/moscow/product/disk-piln...   \n1   https://www.sdvor.com/moscow/product/ruletka-v...   \n2   https://www.sdvor.com/moscow/product/vorotok-d...   \n3   https://www.sdvor.com/moscow/product/vykljucha...   \n4   https://www.sdvor.com/moscow/product/pazogrebn...   \n..                                                ...   \n71  https://www.sdvor.com/moscow/product/ljuchok-p...   \n72  https://www.sdvor.com/moscow/product/Planka-ug...   \n73  https://www.sdvor.com/moscow/product/kraska-oa...   \n74  https://www.sdvor.com/moscow/product/verevka-d...   \n75  https://www.sdvor.com/moscow/product/zaglushka...   \n\n                         category1  price1    id2  \\\n0   Оснастка и расходные материалы     655  17574   \n1                Ручной инструмент     189  17523   \n2           Строительные материалы     749  15213   \n3            Электрика и освещение     409  44359   \n4           Строительные материалы     340  14193   \n..                             ...     ...    ...   \n71                             NaN     338  25280   \n72                Чистовая отделка     204  34736   \n73                Чистовая отделка     799  32588   \n74          Строительные материалы     237  25358   \n75       Водоснабжение и отопление     333  15241   \n\n                                               title2  \\\n0   Диск пильный по дереву KRUGO 190 x 2.2/1.4 x 4...   \n1                     Рулетка ЗУБР Нейлон 5 м х 19 мм   \n2                      Вороток для сваи Таврос 108 мм   \n3   Автоматический выключатель ВА47-29 2Р 50А 4,5к...   \n4   Пазогребневая плита (ПГП) полнотелая KNAUF вла...   \n..                                                ...   \n71           Ревизионный люк AURAMAX нажимной 200х300   \n72  Угол универсальный для МДФ панелей STELLA 2700...   \n73  Краска FINNCOLOR OASIS BATHROOM A полуматовая ...   \n74              Канат джутовый тросовой свивки 6,0 мм   \n75                     Заглушка НК ПП 160, рыжий, RTP   \n\n                                                 url2  \\\n0   https://obi.ru/products/disk-pilnyj-po-derevu-...   \n1   https://obi.ru/products/ruletka-zubr-nejlon-5-...   \n2   https://obi.ru/products/vorotok-dlja-svai-tavr...   \n3   https://obi.ru/products/avtomaticheskij-vyklju...   \n4   https://obi.ru/products/pazogrebnevaja-plita-p...   \n..                                                ...   \n71  https://obi.ru/products/revizionnyj-ljuk-auram...   \n72  https://obi.ru/products/ugol-universalnyj-dlja...   \n73  https://obi.ru/products/kraska-finncolor-oasis...   \n74  https://obi.ru/products/kanat-dzhutovyj-trosov...   \n75  https://obi.ru/products/zaglushka-nk-pp-160-ry...   \n\n                         category2  price2  delta  \n0   Оснастка и расходные материалы    1129   -474  \n1                Ручной инструмент     449   -260  \n2           Строительные материалы     949   -200  \n3            Электрика и освещение     539   -130  \n4           Строительные материалы     469   -129  \n..                             ...     ...    ...  \n71                             NaN     239     99  \n72                Чистовая отделка      99    105  \n73                Чистовая отделка     649    150  \n74          Строительные материалы      78    159  \n75       Водоснабжение и отопление     139    194  \n\n[76 rows x 11 columns]",
      "text/html": "<div>\n<style scoped>\n    .dataframe tbody tr th:only-of-type {\n        vertical-align: middle;\n    }\n\n    .dataframe tbody tr th {\n        vertical-align: top;\n    }\n\n    .dataframe thead th {\n        text-align: right;\n    }\n</style>\n<table border=\"1\" class=\"dataframe\">\n  <thead>\n    <tr style=\"text-align: right;\">\n      <th></th>\n      <th>id1</th>\n      <th>title1</th>\n      <th>url1</th>\n      <th>category1</th>\n      <th>price1</th>\n      <th>id2</th>\n      <th>title2</th>\n      <th>url2</th>\n      <th>category2</th>\n      <th>price2</th>\n      <th>delta</th>\n    </tr>\n  </thead>\n  <tbody>\n    <tr>\n      <th>0</th>\n      <td>4126</td>\n      <td>Диск пильный по дереву Trio-Diamond Forest Lon...</td>\n      <td>https://www.sdvor.com/moscow/product/disk-piln...</td>\n      <td>Оснастка и расходные материалы</td>\n      <td>655</td>\n      <td>17574</td>\n      <td>Диск пильный по дереву KRUGO 190 x 2.2/1.4 x 4...</td>\n      <td>https://obi.ru/products/disk-pilnyj-po-derevu-...</td>\n      <td>Оснастка и расходные материалы</td>\n      <td>1129</td>\n      <td>-474</td>\n    </tr>\n    <tr>\n      <th>1</th>\n      <td>2196</td>\n      <td>Рулетка Вихрь 5м х 19мм</td>\n      <td>https://www.sdvor.com/moscow/product/ruletka-v...</td>\n      <td>Ручной инструмент</td>\n      <td>189</td>\n      <td>17523</td>\n      <td>Рулетка ЗУБР Нейлон 5 м х 19 мм</td>\n      <td>https://obi.ru/products/ruletka-zubr-nejlon-5-...</td>\n      <td>Ручной инструмент</td>\n      <td>449</td>\n      <td>-260</td>\n    </tr>\n    <tr>\n      <th>2</th>\n      <td>847</td>\n      <td>Вороток для сваи 108 мм НСЗ</td>\n      <td>https://www.sdvor.com/moscow/product/vorotok-d...</td>\n      <td>Строительные материалы</td>\n      <td>749</td>\n      <td>15213</td>\n      <td>Вороток для сваи Таврос 108 мм</td>\n      <td>https://obi.ru/products/vorotok-dlja-svai-tavr...</td>\n      <td>Строительные материалы</td>\n      <td>949</td>\n      <td>-200</td>\n    </tr>\n    <tr>\n      <th>3</th>\n      <td>9927</td>\n      <td>Выключатель автоматический двухполюсный C 50А ...</td>\n      <td>https://www.sdvor.com/moscow/product/vykljucha...</td>\n      <td>Электрика и освещение</td>\n      <td>409</td>\n      <td>44359</td>\n      <td>Автоматический выключатель ВА47-29 2Р 50А 4,5к...</td>\n      <td>https://obi.ru/products/avtomaticheskij-vyklju...</td>\n      <td>Электрика и освещение</td>\n      <td>539</td>\n      <td>-130</td>\n    </tr>\n    <tr>\n      <th>4</th>\n      <td>601</td>\n      <td>Плита гипсовая пазогребневая Кнауф полнотелая ...</td>\n      <td>https://www.sdvor.com/moscow/product/pazogrebn...</td>\n      <td>Строительные материалы</td>\n      <td>340</td>\n      <td>14193</td>\n      <td>Пазогребневая плита (ПГП) полнотелая KNAUF вла...</td>\n      <td>https://obi.ru/products/pazogrebnevaja-plita-p...</td>\n      <td>Строительные материалы</td>\n      <td>469</td>\n      <td>-129</td>\n    </tr>\n    <tr>\n      <th>...</th>\n      <td>...</td>\n      <td>...</td>\n      <td>...</td>\n      <td>...</td>\n      <td>...</td>\n      <td>...</td>\n      <td>...</td>\n      <td>...</td>\n      <td>...</td>\n      <td>...</td>\n      <td>...</td>\n    </tr>\n    <tr>\n      <th>71</th>\n      <td>12908</td>\n      <td>Лючок 200х300 мм пластик</td>\n      <td>https://www.sdvor.com/moscow/product/ljuchok-p...</td>\n      <td>NaN</td>\n      <td>338</td>\n      <td>25280</td>\n      <td>Ревизионный люк AURAMAX нажимной 200х300</td>\n      <td>https://obi.ru/products/revizionnyj-ljuk-auram...</td>\n      <td>NaN</td>\n      <td>239</td>\n      <td>99</td>\n    </tr>\n    <tr>\n      <th>72</th>\n      <td>7343</td>\n      <td>Планка угловая МДФ Stella Ледяное дерево 2700х...</td>\n      <td>https://www.sdvor.com/moscow/product/Planka-ug...</td>\n      <td>Чистовая отделка</td>\n      <td>204</td>\n      <td>34736</td>\n      <td>Угол универсальный для МДФ панелей STELLA 2700...</td>\n      <td>https://obi.ru/products/ugol-universalnyj-dlja...</td>\n      <td>Чистовая отделка</td>\n      <td>99</td>\n      <td>105</td>\n    </tr>\n    <tr>\n      <th>73</th>\n      <td>6478</td>\n      <td>Краска для влажных помещений Finncolor Oasis б...</td>\n      <td>https://www.sdvor.com/moscow/product/kraska-oa...</td>\n      <td>Чистовая отделка</td>\n      <td>799</td>\n      <td>32588</td>\n      <td>Краска FINNCOLOR OASIS BATHROOM A полуматовая ...</td>\n      <td>https://obi.ru/products/kraska-finncolor-oasis...</td>\n      <td>Чистовая отделка</td>\n      <td>649</td>\n      <td>150</td>\n    </tr>\n    <tr>\n      <th>74</th>\n      <td>562</td>\n      <td>Веревка джутовая 6 мм 20 м</td>\n      <td>https://www.sdvor.com/moscow/product/verevka-d...</td>\n      <td>Строительные материалы</td>\n      <td>237</td>\n      <td>25358</td>\n      <td>Канат джутовый тросовой свивки 6,0 мм</td>\n      <td>https://obi.ru/products/kanat-dzhutovyj-trosov...</td>\n      <td>Строительные материалы</td>\n      <td>78</td>\n      <td>159</td>\n    </tr>\n    <tr>\n      <th>75</th>\n      <td>11754</td>\n      <td>Заглушка Ostendorf KGM 160 мм</td>\n      <td>https://www.sdvor.com/moscow/product/zaglushka...</td>\n      <td>Водоснабжение и отопление</td>\n      <td>333</td>\n      <td>15241</td>\n      <td>Заглушка НК ПП 160, рыжий, RTP</td>\n      <td>https://obi.ru/products/zaglushka-nk-pp-160-ry...</td>\n      <td>Водоснабжение и отопление</td>\n      <td>139</td>\n      <td>194</td>\n    </tr>\n  </tbody>\n</table>\n<p>76 rows × 11 columns</p>\n</div>"
     },
     "execution_count": 5,
     "metadata": {},
     "output_type": "execute_result"
    }
   ],
   "source": [
    "import pandas as pd\n",
    "\n",
    "df = pd.read_excel(\"/home/roman/PycharmProjects/personal/diploma/django_ui/plots_and_reports/simlpe_report.xlsx\", sheet_name=\"Данные\", skiprows=1, )\n",
    "df.columns = ['id1', 'title1', 'url1', 'category1', 'price1', 'id2', 'title2', 'url2', 'category2', 'price2', 'delta']\n",
    "df"
   ]
  },
  {
   "cell_type": "code",
   "execution_count": 8,
   "outputs": [
    {
     "data": {
      "text/plain": "                        category1  delta_rel\n0       Водоснабжение и отопление  -0.614004\n2                 Метизы и крепеж  -0.507260\n5               Ручной инструмент  -0.233171\n7          Строительные материалы  -0.216461\n4           Пены, герметики, клей  -0.138921\n6   Столярно-слесарный инструмент  -0.109524\n1           Двери и комплектующие  -0.089041\n3  Оснастка и расходные материалы  -0.054637\n9           Электрика и освещение  -0.029359\n8                Чистовая отделка   0.179807",
      "text/html": "<div>\n<style scoped>\n    .dataframe tbody tr th:only-of-type {\n        vertical-align: middle;\n    }\n\n    .dataframe tbody tr th {\n        vertical-align: top;\n    }\n\n    .dataframe thead th {\n        text-align: right;\n    }\n</style>\n<table border=\"1\" class=\"dataframe\">\n  <thead>\n    <tr style=\"text-align: right;\">\n      <th></th>\n      <th>category1</th>\n      <th>delta_rel</th>\n    </tr>\n  </thead>\n  <tbody>\n    <tr>\n      <th>0</th>\n      <td>Водоснабжение и отопление</td>\n      <td>-0.614004</td>\n    </tr>\n    <tr>\n      <th>2</th>\n      <td>Метизы и крепеж</td>\n      <td>-0.507260</td>\n    </tr>\n    <tr>\n      <th>5</th>\n      <td>Ручной инструмент</td>\n      <td>-0.233171</td>\n    </tr>\n    <tr>\n      <th>7</th>\n      <td>Строительные материалы</td>\n      <td>-0.216461</td>\n    </tr>\n    <tr>\n      <th>4</th>\n      <td>Пены, герметики, клей</td>\n      <td>-0.138921</td>\n    </tr>\n    <tr>\n      <th>6</th>\n      <td>Столярно-слесарный инструмент</td>\n      <td>-0.109524</td>\n    </tr>\n    <tr>\n      <th>1</th>\n      <td>Двери и комплектующие</td>\n      <td>-0.089041</td>\n    </tr>\n    <tr>\n      <th>3</th>\n      <td>Оснастка и расходные материалы</td>\n      <td>-0.054637</td>\n    </tr>\n    <tr>\n      <th>9</th>\n      <td>Электрика и освещение</td>\n      <td>-0.029359</td>\n    </tr>\n    <tr>\n      <th>8</th>\n      <td>Чистовая отделка</td>\n      <td>0.179807</td>\n    </tr>\n  </tbody>\n</table>\n</div>"
     },
     "execution_count": 8,
     "metadata": {},
     "output_type": "execute_result"
    }
   ],
   "source": [
    "df['delta_rel'] = df['delta'] / df['price1']\n",
    "\n",
    "df_groped = df.groupby('category1')['delta_rel'].mean().reset_index()\n",
    "df_groped = df_groped.sort_values(\"delta_rel\")\n",
    "df_groped"
   ],
   "metadata": {
    "collapsed": false,
    "ExecuteTime": {
     "end_time": "2025-04-07T09:22:10.555393556Z",
     "start_time": "2025-04-07T09:22:10.553434815Z"
    }
   }
  }
 ],
 "metadata": {
  "kernelspec": {
   "display_name": "Python 3",
   "language": "python",
   "name": "python3"
  },
  "language_info": {
   "codemirror_mode": {
    "name": "ipython",
    "version": 2
   },
   "file_extension": ".py",
   "mimetype": "text/x-python",
   "name": "python",
   "nbconvert_exporter": "python",
   "pygments_lexer": "ipython2",
   "version": "2.7.6"
  }
 },
 "nbformat": 4,
 "nbformat_minor": 0
}
