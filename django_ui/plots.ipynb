{
 "cells": [
  {
   "cell_type": "code",
   "execution_count": 12,
   "metadata": {
    "collapsed": true,
    "ExecuteTime": {
     "end_time": "2025-03-27T21:06:56.313014129Z",
     "start_time": "2025-03-27T21:06:56.254116577Z"
    }
   },
   "outputs": [
    {
     "data": {
      "text/plain": "'temp-plot.html'"
     },
     "execution_count": 12,
     "metadata": {},
     "output_type": "execute_result"
    }
   ],
   "source": [
    "import numpy as np\n",
    "import plotly\n",
    "import plotly.express as px\n",
    "import plotly.graph_objects as go\n",
    "import pandas as pd\n",
    "\n",
    "# Generate data\n",
    "d1 = np.random.normal(loc=0.0, scale=1.0, size=3500)\n",
    "d2 = np.random.normal(loc=0.3, scale=0.2, size=2100)\n",
    "\n",
    "# Create a DataFrame for Plotly\n",
    "df = pd.DataFrame({\n",
    "    \"Value\": np.concatenate([d1, d2]),\n",
    "    \"Dataset\": [\"d1\"] * len(d1) + [\"d2\"] * len(d2)\n",
    "})\n",
    "\n",
    "# Create histogram\n",
    "fig = px.histogram(df, x=\"Value\", color=\"Dataset\", nbins=20, opacity=0.7, barmode=\"overlay\")\n",
    "\n",
    "# Adjust layout\n",
    "fig.update_layout(\n",
    "    title='Histogram of Relative Price Differences Between Two Stores',\n",
    "    xaxis_title='Относительная разница стоимости',\n",
    "    yaxis_title='Count',\n",
    "    bargap=0.1\n",
    ")\n",
    "\n",
    "# Show plot\n",
    "plotly.offline.plot(fig)"
   ]
  },
  {
   "cell_type": "code",
   "execution_count": 14,
   "outputs": [
    {
     "data": {
      "text/plain": "'temp-plot.html'"
     },
     "execution_count": 14,
     "metadata": {},
     "output_type": "execute_result"
    }
   ],
   "source": [
    "# Generate data\n",
    "d1 = np.random.normal(loc=0.0, scale=1.0, size=3500)\n",
    "d2 = np.random.normal(loc=0.3, scale=0.2, size=2100)\n",
    "\n",
    "# Create histogram\n",
    "fig = go.Figure()\n",
    "\n",
    "# Add histogram for d1\n",
    "fig.add_trace(go.Histogram(\n",
    "    x=d1,\n",
    "    name=\"d1\",\n",
    "    opacity=0.7,\n",
    "    xbins=dict(start=0, end=0.6, size=0.1)  # Fixed bins\n",
    "))\n",
    "\n",
    "# Add histogram for d2\n",
    "fig.add_trace(go.Histogram(\n",
    "    x=d2,\n",
    "    name=\"d2\",\n",
    "    opacity=0.7,\n",
    "    xbins=dict(start=-0.6, end=0.6, size=0.1)\n",
    "))\n",
    "\n",
    "# Adjust layout\n",
    "fig.update_layout(\n",
    "    title='Histogram of Relative Price Differences Between Two Stores',\n",
    "    xaxis_title='Относительная разница стоимости',\n",
    "    yaxis_title='Count',\n",
    "    bargap=0.1,\n",
    "    barmode=\"overlay\"  # Overlay histograms\n",
    ")\n",
    "\n",
    "# Show plot\n",
    "plotly.offline.plot(fig)\n"
   ],
   "metadata": {
    "collapsed": false,
    "ExecuteTime": {
     "end_time": "2025-03-27T21:08:08.684943295Z",
     "start_time": "2025-03-27T21:08:08.643582957Z"
    }
   }
  },
  {
   "cell_type": "code",
   "execution_count": 28,
   "outputs": [],
   "source": [
    "from sqlalchemy import select\n",
    "from sqlalchemy.orm import Session, aliased\n",
    "from db_populate.session import db_session_as_kwarg\n",
    "from db_populate.models import Match as SaMatch\n",
    "from db_populate.models import Product as SaProduct\n",
    "\n",
    "\n",
    "@db_session_as_kwarg\n",
    "def get_next_product(session: Session) -> list[list]:\n",
    "    p1_alias = aliased(SaProduct)\n",
    "    p2_alias = aliased(SaProduct)\n",
    "\n",
    "    query = session.execute(\n",
    "        select(p1_alias.title, p1_alias.price, p2_alias.price).select_from(SaMatch)\n",
    "        .join(p1_alias, SaMatch.product_1_id == p1_alias.id)\n",
    "        .join(p2_alias, SaMatch.product_2_id == p2_alias.id)\n",
    "    )\n",
    "\n",
    "    rows = []\n",
    "    for sa_row in query.all():\n",
    "        r = sa_row\n",
    "        rows.append([\n",
    "            sa_row[0],\n",
    "            sa_row[1],\n",
    "            sa_row[2],\n",
    "        ])\n",
    "\n",
    "    return rows\n",
    "\n",
    "rows = get_next_product()"
   ],
   "metadata": {
    "collapsed": false,
    "ExecuteTime": {
     "end_time": "2025-03-28T08:26:25.352914257Z",
     "start_time": "2025-03-28T08:26:25.349206732Z"
    }
   }
  },
  {
   "cell_type": "code",
   "execution_count": 29,
   "outputs": [
    {
     "data": {
      "text/plain": "[['Профиль угловой сетчатый 35х35x3000 мм, оцинкованный', 77.0, 89.0],\n ['Профиль угловой 25х25х3000 мм, оцинкованный 0,25 мм', 96.0, 97.0],\n ['Профиль угловой с армирующей сеткой 100х150x2500 мм, ПВХ', 108.0, 135.0],\n ['Веревка джутовая 6 мм 20 м', 237.0, 78.0],\n ['Вороток для сваи 108 мм НСЗ', 749.0, 949.0],\n ['Блок газобетонный ВКБлок D500 625х300х250 мм', 6.0, 639.0],\n ['Блок газобетонный ВКБлок D500 625х100х250 мм', 6.0, 142.0],\n ['Блок газобетонный Bonolit D500 600х100х250 мм', 6.0, 128.0],\n ['Блок газобетонный Bonolit D500 600x75x250 мм', 6.0, 96.0],\n ['Блок газобетонный Bonolit D500 600х50х250 мм', 7.0, 79.0],\n ['Блок газобетонный ЕЗСМ D500 625x100х250 мм', 5.0, 142.0],\n ['Блок газобетонный ЕЗСМ D500 625x200х250 мм', 5.0, 289.0],\n ['Блок газобетонный Bonolit D500 600х250х200 мм', 6.0, 259.0],\n ['Блок газобетонный Bonolit D600 600х100х250 мм', 6.0, 128.0],\n ['Фиксатор Звездочка з/с 20 мм; 25 мм', 1.0, 209.0],\n ['Плита гипсовая пазогребневая Волма пустотелая 667х500х80 мм', 294.0, 369.0],\n ['Плита гипсовая пазогребневая Магма полнотелая 667х500х80 мм', 320.0, 369.0],\n ['Плита гипсовая пазогребневая Волма полнотелая 667х500х80 мм', 338.0, 369.0],\n ['Плита гипсовая пазогребневая Кнауф полнотелая 667х500х80 мм', 340.0, 469.0],\n ['Плита гипсовая пазогребневая Волма пустотелая влагостойкая 667х500х80 мм',\n  350.0,\n  369.0],\n ['Плита гипсовая пазогребневая Магма полнотелая влагостойкая 667х500х80 мм',\n  359.0,\n  369.0],\n ['Плита гипсовая пазогребневая Волма полнотелая влагостойкая 667х500х80 мм',\n  364.0,\n  369.0],\n ['Плита гипсовая пазогребневая Кнауф\\xa0полнотелая влагостойкая 667х500х80 мм',\n  428.0,\n  469.0],\n ['Кирпич облицовочный одинарный М-150 красный кварц Воротынск', 22.0, 56.0],\n ['Кирпич одинарный пустотелый лицевой М-150 красный гладкий Воротынск',\n  21.0,\n  56.0],\n ['Цемент ЦЕМ I 42,5Н (ПЦ-500 Д0) Цемрос 50 кг', 580.0, 566.0],\n ['Дюбель для теплоизоляции 10х140 мм IZL-T металл с термоголовкой',\n  22.0,\n  579.0],\n ['Пила дисковая Ресанта ДП-190/1800 190 мм 1800 Вт', 7.0, 7599.0],\n ['Круг по металлу отрезной 115х1,0х22 Луга', 31.0, 28.0],\n ['Сверло по металлу 5,5х93 мм TIN Yoko', 202.0, 199.0],\n ['Коронка 57 мм 5/8\" Bi-Metal Elitech 1820.061600', 244.0, 269.0],\n ['Набор коронок Yoko по дереву 19-127 мм', 1.0, 1799.0],\n ['Крестики для плитки Stayer 4 мм (100 штук)', 58.0, 49.0],\n ['Крестики для плитки Stayer 4 мм (100 штук)', 58.0, 49.0],\n ['Гайка М16 DIN 985 со стопорным кольцом', 29.0, 37.0],\n ['Шайба DIN 125 простая цинк М12', 40.0, 51.0],\n ['Болт М8х50 DIN 933 кл 5,8 с шестигранной головкой', 18.0, 49.0],\n ['Болт анкерный с гайкой 12х129 мм', 90.0, 64.0],\n ['Заглушка самоклейка 14 мм орех (50 шт) - пакет', 76.0, 39.0],\n ['Болт DIN603 10,0х40 мебельный', 24.0, 79.0],\n ['Краска\\xa0для стен и потолков Dulux Professional Bindo 3 белая база BW 1 л',\n  798.0,\n  769.0],\n ['Краска для стен и потолков Dulux 3D White белая база BW 5 л', 3.0, 3829.0],\n ['Клей монтажный акриловый белый 125 гр Момент МВ-50', 162.0, 182.0],\n ['Панель стеновая МДФ Stella Сосна Риальто 2700х200х6 мм', 344.0, 299.0],\n ['Планка угловая МДФ Stella Ледяное дерево 2700х24х24 мм', 204.0, 99.0],\n ['Затирка эпоксидная Litokol Starlike Evo S.110 светло-серая, 2,5 кг',\n  4.0,\n  5149.0],\n ['Линолеум бытовой Gladiator Gloriosa 1 3,5 м', 1.0, 949.0],\n ['Плитка ПВХ клеевая Tarkett Art Vinyl New Age Enigma 230179003',\n  1.0,\n  312249.0],\n ['Кабель ВВГ-Пнг(А) 3х6 ГОСТ бухта 80 м, отрез', 235.0, 279.0],\n ['Лампа светодиодная Tokov Electric 10Вт GX53 нейтральный белый свет 4000К',\n  93.0,\n  80.0],\n ['Лампа светодиодная Gauss Filament 9Вт E14 нейтральный белый свет 4100K шар',\n  199.0,\n  199.0],\n ['Кабель-канал белый 15x10 2 метра', 75.0, 69.0],\n ['Муфта полипропиленовая 25 TEBO', 17.0, 99.0],\n ['Муфта полипропиленовая комбинированная 20х3/4\" ВР TEBO', 130.0, 105.0],\n ['Крепление для унитаза к полу усиленное (комплект), MP', 75.0, 59.0],\n ['Кран шаровый HLV ВР 1/2\" бабочка', 387.0, 499.0],\n ['Труба канализационная Sinikon Комфорт Плюс 110х500', 100.0, 229.0],\n ['Заглушка канализационная 32 мм RTP', 39.0, 29.0],\n ['Тройник канализационный 32х32 мм 87,5° RTP', 122.0, 79.0],\n ['Заглушка Ostendorf KGM 160 мм', 333.0, 139.0],\n ['Прокладка силиконовая для гибкой подводки 1/2\" 2 шт', 28.0, 25.0],\n ['Бак расширительный мембранный для водоснабжения 80 л вертикальный синий',\n  7.0,\n  12390.0],\n ['Набор прокладок для смесителя Сантехник № 1', 48.0, 379.0],\n ['Лючок 200х300 мм пластик', 338.0, 239.0],\n ['Аренда Баллон газовый 5 л вентиль НЗГА', 200.0, 3449.0],\n ['Штукатурка гипсовая Волма Слой 5 кг', 198.0, 239.0],\n ['Затирка цементная Церезит CE 40 aquastatic карамель, 2 кг', 663.0, 629.0],\n ['Ремонтный состав Основит Хардскрин RC20, 5 кг', 392.0, 329.0],\n ['Гипсокартон Магма влагостойкий 2500х1200х12,5 мм', 464.0, 467.0],\n ['Подвес прямой ПП 60х27 мм', 11.0, 14.0],\n ['Гидро-ветрозащита Тип А Изоспан 1,6х43,75 м 70 м²', 100.0, 6399.0],\n ['Гладилка прямая пластиковая 280х140х3 мм', 278.0, 279.0],\n ['Цифра дверная АЛЛЮР металл 0 хром', 146.0, 159.0],\n ['Шпатель резиновый Зубр 40 мм', 42.0, 29.0],\n ['Блок сменный для шпателя Litokol 120 мм', 283.0, 299.0],\n ['Шлифовщик с ручкой металлический фиксатор 230х105 мм', 480.0, 499.0],\n ['Рулетка Вихрь 5м х 19мм', 189.0, 449.0],\n ['Угольник 500 мм', 231.0, 999.0],\n ['Ножовка по металлу натяжная, 300 мм', 630.0, 699.0],\n ['Колун 2,7 кг фиберглассовая рукоятка 900 мм Matrix', 2.0, 3299.0],\n ['Круг перфорированный из абразив. бумаги 125мм/№120 5шт/уп', 120.0, 89.0],\n ['Щетка чашечная 125мм/М14 для УШМ, проволока сталь крученая Yoko',\n  561.0,\n  489.0],\n ['Коронка Yoko Bi-metal 64 мм', 1.0, 789.0],\n ['Щетка чашечная 75 мм для дрели, полимер-абразив Yoko', 200.0, 839.0],\n ['Диск пильный по дереву Trio-Diamond Forest Long Life 190х48Т-30',\n  655.0,\n  1129.0],\n ['Крестики для плитки Stayer 1 мм (200 штук)', 65.0, 59.0],\n ['Крестики для плитки Stayer 2 мм (200 штук)', 68.0, 49.0],\n ['Дюбель распорный Чапай синий 6х25 мм', 0.0, 155.0],\n ['Уголок крепежный усиленный 90х90х40х1,8 мм ШК', 40.0, 64.0],\n ['Шпилька оцинкованная резьбовая М6х1000 мм', 94.0, 109.0],\n ['Гайка шестигранная М20 DIN 934', 30.0, 45.0],\n ['Шайба М20,0 DIN 9021 кузовная', 41.0, 41.0],\n ['Болт М8х60 DIN 933 кл 5,8 с шестигранной головкой', 18.0, 65.0],\n ['Болт М10х60 DIN 933 оцинкованный 2 шт/уп', 70.0, 56.0],\n ['Винт с полусферической головкой М3х30 DIN7985 оцинкованный', 2.0, 37.0],\n ['Анкер-клин 6х40 мм', 40.0, 359.0],\n ['Заглушка самоклейка 14 мм орех темный (50 шт) - пакет', 76.0, 65.0],\n ['Краска для влажных помещений Finncolor Oasis белая полуматовая база А 0,9 л',\n  799.0,\n  649.0],\n ['Краска для мебели и дерева Dulux белая база BW 2 л', 3.0, 3729.0],\n ['Клей монтажный акриловый суперсильный прозрачный 185 гр Момент МВп-70',\n  285.0,\n  329.0],\n ['Панель стеновая МДФ Stella Дуб Снежный 2700х200х6 мм', 344.0, 275.0],\n ['Планка угловая МДФ Stella Бетон Нью-Йорк 2700х24х24 мм', 240.0, 229.0],\n ['Затирка эпоксидная Litokol Starlike Evo S.202 темно-молочная, 2,5 кг',\n  4.0,\n  5099.0],\n ['Колодка клеммная 12 пар 1-4 мм²', 99.0, 100.0],\n ['Кабель-канал белый 16x16 2 м T.Plast', 89.0, 81.0],\n ['Труба гофрированная ПНД черная 16 мм с протяжкой 100 м', 1.0, 1149.0],\n ['Выключатель автоматический двухполюсный C 50А 4.5кА IEK', 409.0, 539.0]]"
     },
     "execution_count": 29,
     "metadata": {},
     "output_type": "execute_result"
    }
   ],
   "source": [
    "rows"
   ],
   "metadata": {
    "collapsed": false,
    "ExecuteTime": {
     "end_time": "2025-03-28T08:26:29.138936400Z",
     "start_time": "2025-03-28T08:26:29.137359503Z"
    }
   }
  },
  {
   "cell_type": "code",
   "execution_count": 36,
   "outputs": [
    {
     "data": {
      "text/plain": "                                                 title  price_1  price_2  \\\n0    Профиль угловой сетчатый 35х35x3000 мм, оцинко...     77.0     89.0   \n1    Профиль угловой 25х25х3000 мм, оцинкованный 0,...     96.0     97.0   \n2    Профиль угловой с армирующей сеткой 100х150x25...    108.0    135.0   \n3                           Веревка джутовая 6 мм 20 м    237.0     78.0   \n4                          Вороток для сваи 108 мм НСЗ    749.0    949.0   \n..                                                 ...      ...      ...   \n102  Затирка эпоксидная Litokol Starlike Evo S.202 ...      4.0   5099.0   \n103                    Колодка клеммная 12 пар 1-4 мм²     99.0    100.0   \n104               Кабель-канал белый 16x16 2 м T.Plast     89.0     81.0   \n105  Труба гофрированная ПНД черная 16 мм с протяжк...      1.0   1149.0   \n106  Выключатель автоматический двухполюсный C 50А ...    409.0    539.0   \n\n      delta  relative_delta  \n0     -12.0       -0.134831  \n1      -1.0       -0.010309  \n2     -27.0       -0.200000  \n3     159.0        2.038462  \n4    -200.0       -0.210748  \n..      ...             ...  \n102 -5095.0       -0.999216  \n103    -1.0       -0.010000  \n104     8.0        0.098765  \n105 -1148.0       -0.999130  \n106  -130.0       -0.241187  \n\n[107 rows x 5 columns]",
      "text/html": "<div>\n<style scoped>\n    .dataframe tbody tr th:only-of-type {\n        vertical-align: middle;\n    }\n\n    .dataframe tbody tr th {\n        vertical-align: top;\n    }\n\n    .dataframe thead th {\n        text-align: right;\n    }\n</style>\n<table border=\"1\" class=\"dataframe\">\n  <thead>\n    <tr style=\"text-align: right;\">\n      <th></th>\n      <th>title</th>\n      <th>price_1</th>\n      <th>price_2</th>\n      <th>delta</th>\n      <th>relative_delta</th>\n    </tr>\n  </thead>\n  <tbody>\n    <tr>\n      <th>0</th>\n      <td>Профиль угловой сетчатый 35х35x3000 мм, оцинко...</td>\n      <td>77.0</td>\n      <td>89.0</td>\n      <td>-12.0</td>\n      <td>-0.134831</td>\n    </tr>\n    <tr>\n      <th>1</th>\n      <td>Профиль угловой 25х25х3000 мм, оцинкованный 0,...</td>\n      <td>96.0</td>\n      <td>97.0</td>\n      <td>-1.0</td>\n      <td>-0.010309</td>\n    </tr>\n    <tr>\n      <th>2</th>\n      <td>Профиль угловой с армирующей сеткой 100х150x25...</td>\n      <td>108.0</td>\n      <td>135.0</td>\n      <td>-27.0</td>\n      <td>-0.200000</td>\n    </tr>\n    <tr>\n      <th>3</th>\n      <td>Веревка джутовая 6 мм 20 м</td>\n      <td>237.0</td>\n      <td>78.0</td>\n      <td>159.0</td>\n      <td>2.038462</td>\n    </tr>\n    <tr>\n      <th>4</th>\n      <td>Вороток для сваи 108 мм НСЗ</td>\n      <td>749.0</td>\n      <td>949.0</td>\n      <td>-200.0</td>\n      <td>-0.210748</td>\n    </tr>\n    <tr>\n      <th>...</th>\n      <td>...</td>\n      <td>...</td>\n      <td>...</td>\n      <td>...</td>\n      <td>...</td>\n    </tr>\n    <tr>\n      <th>102</th>\n      <td>Затирка эпоксидная Litokol Starlike Evo S.202 ...</td>\n      <td>4.0</td>\n      <td>5099.0</td>\n      <td>-5095.0</td>\n      <td>-0.999216</td>\n    </tr>\n    <tr>\n      <th>103</th>\n      <td>Колодка клеммная 12 пар 1-4 мм²</td>\n      <td>99.0</td>\n      <td>100.0</td>\n      <td>-1.0</td>\n      <td>-0.010000</td>\n    </tr>\n    <tr>\n      <th>104</th>\n      <td>Кабель-канал белый 16x16 2 м T.Plast</td>\n      <td>89.0</td>\n      <td>81.0</td>\n      <td>8.0</td>\n      <td>0.098765</td>\n    </tr>\n    <tr>\n      <th>105</th>\n      <td>Труба гофрированная ПНД черная 16 мм с протяжк...</td>\n      <td>1.0</td>\n      <td>1149.0</td>\n      <td>-1148.0</td>\n      <td>-0.999130</td>\n    </tr>\n    <tr>\n      <th>106</th>\n      <td>Выключатель автоматический двухполюсный C 50А ...</td>\n      <td>409.0</td>\n      <td>539.0</td>\n      <td>-130.0</td>\n      <td>-0.241187</td>\n    </tr>\n  </tbody>\n</table>\n<p>107 rows × 5 columns</p>\n</div>"
     },
     "execution_count": 36,
     "metadata": {},
     "output_type": "execute_result"
    }
   ],
   "source": [
    "real_df = pd.DataFrame(rows, columns=[\"title\", \"price_1\", \"price_2\"])\n",
    "\n",
    "real_df[\"delta\"] = real_df[\"price_1\"] - real_df[\"price_2\"]\n",
    "real_df[\"relative_delta\"] = real_df[\"delta\"] / real_df[\"price_2\"]\n",
    "real_df"
   ],
   "metadata": {
    "collapsed": false,
    "ExecuteTime": {
     "end_time": "2025-03-28T08:43:56.225577298Z",
     "start_time": "2025-03-28T08:43:56.177974001Z"
    }
   }
  },
  {
   "cell_type": "code",
   "execution_count": 43,
   "outputs": [
    {
     "data": {
      "text/plain": "'temp-plot.html'"
     },
     "execution_count": 43,
     "metadata": {},
     "output_type": "execute_result"
    }
   ],
   "source": [
    "# Create histogram\n",
    "fig = go.Figure()\n",
    "\n",
    "# Add histogram for d1\n",
    "fig.add_trace(go.Histogram(\n",
    "    x=real_df[\"relative_delta\"],\n",
    "    name=\"В OBI дешевле\",\n",
    "    opacity=1,\n",
    "    marker_color=\"#E45756\",\n",
    "    xbins=dict(start=0, end=0.9, size=0.1)  # Fixed bins\n",
    "))\n",
    "# Add histogram for d1\n",
    "fig.add_trace(go.Histogram(\n",
    "    x=real_df[\"relative_delta\"],\n",
    "    name=\"В Строительный двор дешевле\",\n",
    "    opacity=1,\n",
    "    marker_color=\"#54A24B\",\n",
    "    xbins=dict(start=-0.9, end=0, size=0.1)  # Fixed bins\n",
    "))\n",
    "\n",
    "# Adjust layout\n",
    "fig.update_layout(\n",
    "    title='Гистограмма распределения разницы цен Строительный двор - OBI',\n",
    "    xaxis_title='Относительная разница стоимости',\n",
    "    yaxis_title='Кол-во',\n",
    "    bargap=0.1,\n",
    "    # barmode=\"overlay\"  # Overlay histograms\n",
    ")\n",
    "\n",
    "# Show plot\n",
    "plotly.offline.plot(fig)"
   ],
   "metadata": {
    "collapsed": false,
    "ExecuteTime": {
     "end_time": "2025-03-28T08:50:26.012929343Z",
     "start_time": "2025-03-28T08:50:25.969099663Z"
    }
   }
  }
 ],
 "metadata": {
  "kernelspec": {
   "display_name": "Python 3",
   "language": "python",
   "name": "python3"
  },
  "language_info": {
   "codemirror_mode": {
    "name": "ipython",
    "version": 2
   },
   "file_extension": ".py",
   "mimetype": "text/x-python",
   "name": "python",
   "nbconvert_exporter": "python",
   "pygments_lexer": "ipython2",
   "version": "2.7.6"
  }
 },
 "nbformat": 4,
 "nbformat_minor": 0
}
