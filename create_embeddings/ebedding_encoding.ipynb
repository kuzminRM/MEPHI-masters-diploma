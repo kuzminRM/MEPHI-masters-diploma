{
 "cells": [
  {
   "cell_type": "code",
   "execution_count": 1,
   "metadata": {
    "colab": {
     "base_uri": "https://localhost:8080/"
    },
    "id": "jo-LuGqBg9N4",
    "outputId": "c565cd7d-2ed3-4e34-9ab9-5e2b9d9517b3",
    "ExecuteTime": {
     "end_time": "2024-10-20T20:11:38.448497518Z",
     "start_time": "2024-10-20T20:11:38.448004771Z"
    }
   },
   "outputs": [],
   "source": [
    "from core.logging import service_log, add_file_log\n",
    "import logging\n",
    "import multiprocessing\n",
    "import os\n",
    "\n",
    "os.environ['NUMEXPR_NUM_THREADS'] = str(multiprocessing.cpu_count() - 2)\n",
    "\n",
    "logger = logging.getLogger(__name__)\n",
    "service_log()\n",
    "add_file_log()"
   ]
  },
  {
   "cell_type": "markdown",
   "metadata": {
    "id": "AJ7fvzkBjMVa"
   },
   "source": [
    "# Считаем embeddings"
   ]
  },
  {
   "cell_type": "code",
   "execution_count": 2,
   "metadata": {
    "id": "bLMO51l1oL0K",
    "ExecuteTime": {
     "end_time": "2024-10-20T20:11:39.825995358Z",
     "start_time": "2024-10-20T20:11:39.738055191Z"
    }
   },
   "outputs": [],
   "source": [
    "from create_embeddings.schemas.embedding import ModelEnum\n",
    "from pydantic import BaseModel\n",
    "\n",
    "class EbeddingModel(BaseModel):\n",
    "  name: ModelEnum\n",
    "  param_millions: int\n",
    "  ebedding_size: int\n",
    "  max_tokens: int\n",
    "  rank: int\n",
    "  title_batch_per_gb: int = 250\n",
    "  description_batch_per_gb: int = 250\n",
    "\n",
    "PARAMS_TO_MEMORY_GB_COFICIENT: float = 0.0037572219181414585"
   ]
  },
  {
   "cell_type": "code",
   "execution_count": 3,
   "metadata": {
    "id": "dqKgImmAjRZc",
    "ExecuteTime": {
     "end_time": "2024-10-20T20:11:40.855031917Z",
     "start_time": "2024-10-20T20:11:40.851952504Z"
    }
   },
   "outputs": [],
   "source": [
    "ebeddins_list = (\n",
    "    EbeddingModel(name=ModelEnum.RUBERT_TINY_TURBO, param_millions=29, ebedding_size=312, max_tokens=2048, rank=12),\n",
    "    EbeddingModel(name=ModelEnum.RUBERT_TINY2, param_millions=29, ebedding_size=2048, max_tokens=514, rank=16),\n",
    "    EbeddingModel(name=ModelEnum.LABSE_RU_TURBO, param_millions=128, ebedding_size=768, max_tokens=512, rank=8),\n",
    "    EbeddingModel(name=ModelEnum.MULTILINGUAL_E5_LARGE_INSTRUCT, param_millions=560, ebedding_size=1024, max_tokens=514, rank=2),\n",
    "    EbeddingModel(name=ModelEnum.BGE_M3, param_millions=567, ebedding_size=1024,\tmax_tokens=8192, rank=5),\n",
    ")"
   ]
  },
  {
   "cell_type": "code",
   "execution_count": 4,
   "metadata": {
    "id": "JTh7ohT8tRde",
    "colab": {
     "base_uri": "https://localhost:8080/"
    },
    "outputId": "fb60d20f-b8dc-4a6f-cac5-1d93d30c209a",
    "ExecuteTime": {
     "end_time": "2024-10-20T20:11:44.290260418Z",
     "start_time": "2024-10-20T20:11:43.211791945Z"
    }
   },
   "outputs": [
    {
     "name": "stdout",
     "output_type": "stream",
     "text": [
      "Using CPU\n"
     ]
    }
   ],
   "source": [
    "\n",
    "import torch\n",
    "\n",
    "if torch.cuda.is_available():\n",
    "    print(f\"Using GPU: {torch.cuda.get_device_name(0)}\")\n",
    "    device = torch.device(\"cuda\")\n",
    "else:\n",
    "    print(\"Using CPU\")\n",
    "    device = torch.device(\"cpu\")"
   ]
  },
  {
   "cell_type": "code",
   "execution_count": 5,
   "outputs": [],
   "source": [
    "from parsers.runnures.schemas.product import StoreEnum\n",
    "from create_embeddings.schemas.embedding import EmbeddingsFieldsEnum\n",
    "\n",
    "store_map = {\n",
    "    StoreEnum.STROYDVOR: '/home/roman/PycharmProjects/personal/diploma/parsers/runnures/stroydvor/data/products.csv',\n",
    "    StoreEnum.OBI: '/home/roman/PycharmProjects/personal/diploma/parsers/runnures/obi/data/products_merged.csv',\n",
    "}\n",
    "uid_column = 'uid'\n",
    "fields_to_encode = [EmbeddingsFieldsEnum.TITLE, EmbeddingsFieldsEnum.DESCRIPTION]\n",
    "BATCH_SIZE = 1000\n",
    "# fields_to_encode = ['title', 'description', 'properties__as_text']"
   ],
   "metadata": {
    "collapsed": false,
    "ExecuteTime": {
     "end_time": "2024-10-20T20:11:57.119337340Z",
     "start_time": "2024-10-20T20:11:57.115628906Z"
    }
   }
  },
  {
   "cell_type": "code",
   "execution_count": null,
   "outputs": [
    {
     "name": "stderr",
     "output_type": "stream",
     "text": [
      "2024-10-20 23:12:01,573 - numexpr.utils - INFO - Note: NumExpr detected 16 cores but \"NUMEXPR_MAX_THREADS\" not set, so enforcing safe limit of 8.\n",
      "2024-10-20 23:12:01,667 - __main__ - INFO - ebedding: cointegrated/rubert-tiny2\n",
      "/home/conda/anaconda3/envs/mephi/lib/python3.12/site-packages/transformers/tokenization_utils_base.py:1601: FutureWarning: `clean_up_tokenization_spaces` was not set. It will be set to `True` by default. This behavior will be depracted in transformers v4.45, and will be then set to `False` by default. For more details check this issue: https://github.com/huggingface/transformers/issues/31884\n",
      "  warnings.warn(\n",
      "2024-10-20 23:12:02,800 - __main__ - INFO - store: STROYDVOR\n",
      "2024-10-20 23:12:03,316 - __main__ - INFO - field: title\n",
      "2024-10-20 23:12:04,850 - __main__ - INFO - written batch 0 | runtime 38: 0:00:01.533080\n",
      "2024-10-20 23:12:06,055 - __main__ - INFO - written batch 1 | runtime 38: 0:00:01.203829\n",
      "2024-10-20 23:12:07,229 - __main__ - INFO - written batch 2 | runtime 35: 0:00:01.173384\n",
      "2024-10-20 23:12:08,398 - __main__ - INFO - written batch 3 | runtime 31: 0:00:01.167780\n",
      "2024-10-20 23:12:09,501 - __main__ - INFO - written batch 4 | runtime 33: 0:00:01.102494\n",
      "2024-10-20 23:12:10,579 - __main__ - INFO - written batch 5 | runtime 29: 0:00:01.077016\n",
      "2024-10-20 23:12:11,781 - __main__ - INFO - written batch 6 | runtime 32: 0:00:01.201603\n",
      "2024-10-20 23:12:12,957 - __main__ - INFO - written batch 7 | runtime 34: 0:00:01.174626\n",
      "2024-10-20 23:12:14,299 - __main__ - INFO - written batch 8 | runtime 45: 0:00:01.341378\n",
      "2024-10-20 23:12:15,535 - __main__ - INFO - written batch 9 | runtime 40: 0:00:01.235988\n",
      "2024-10-20 23:12:16,743 - __main__ - INFO - written batch 10 | runtime 38: 0:00:01.207528\n",
      "2024-10-20 23:12:18,080 - __main__ - INFO - written batch 11 | runtime 45: 0:00:01.335812\n",
      "2024-10-20 23:12:19,359 - __main__ - INFO - written batch 12 | runtime 43: 0:00:01.278261\n",
      "2024-10-20 23:12:20,686 - __main__ - INFO - written batch 13 | runtime 39: 0:00:01.326602\n",
      "2024-10-20 23:12:20,787 - __main__ - INFO - written batch 14 | runtime 24: 0:00:00.099899\n",
      "2024-10-20 23:12:20,788 - __main__ - INFO - STROYDVOR title RUBERT_TINY2 | overall runtime: 0:00:17.471537\n",
      "2024-10-20 23:12:20,789 - __main__ - INFO - field: description\n",
      "2024-10-20 23:12:38,356 - __main__ - INFO - written batch 0 | runtime 568: 0:00:17.567258\n",
      "2024-10-20 23:13:15,811 - __main__ - INFO - written batch 1 | runtime 1038: 0:00:37.453884\n",
      "2024-10-20 23:13:30,673 - __main__ - INFO - written batch 2 | runtime 645: 0:00:14.861634\n",
      "2024-10-20 23:13:50,075 - __main__ - INFO - written batch 3 | runtime 671: 0:00:19.401268\n",
      "2024-10-20 23:14:01,032 - __main__ - INFO - written batch 4 | runtime 614: 0:00:10.955620\n",
      "2024-10-20 23:14:08,156 - __main__ - INFO - written batch 5 | runtime 425: 0:00:07.124170\n",
      "2024-10-20 23:14:29,552 - __main__ - INFO - written batch 6 | runtime 809: 0:00:21.394659\n",
      "2024-10-20 23:14:48,608 - __main__ - INFO - written batch 7 | runtime 697: 0:00:19.054949\n",
      "2024-10-20 23:15:06,398 - __main__ - INFO - written batch 8 | runtime 846: 0:00:17.789600\n",
      "2024-10-20 23:15:18,108 - __main__ - INFO - written batch 9 | runtime 672: 0:00:11.709681\n",
      "2024-10-20 23:15:26,081 - __main__ - INFO - written batch 10 | runtime 591: 0:00:07.971609\n",
      "2024-10-20 23:15:45,329 - __main__ - INFO - written batch 11 | runtime 828: 0:00:19.247654\n",
      "2024-10-20 23:15:58,207 - __main__ - INFO - written batch 12 | runtime 742: 0:00:12.877222\n",
      "2024-10-20 23:16:22,256 - __main__ - INFO - written batch 13 | runtime 885: 0:00:24.048115\n",
      "2024-10-20 23:16:22,522 - __main__ - INFO - written batch 14 | runtime 68: 0:00:00.265391\n",
      "2024-10-20 23:16:22,524 - __main__ - INFO - STROYDVOR description RUBERT_TINY2 | overall runtime: 0:04:01.734777\n",
      "2024-10-20 23:16:22,524 - __main__ - INFO - store: OBI\n",
      "/tmp/ipykernel_3610/1057270512.py:14: DtypeWarning: Columns (35,49) have mixed types. Specify dtype option on import or set low_memory=False.\n",
      "  df = pd.read_csv(csv_path)\n",
      "2024-10-20 23:16:24,347 - __main__ - INFO - field: title\n",
      "2024-10-20 23:16:25,802 - __main__ - INFO - written batch 0 | runtime 42: 0:00:01.454678\n",
      "2024-10-20 23:16:27,141 - __main__ - INFO - written batch 1 | runtime 42: 0:00:01.337961\n",
      "2024-10-20 23:16:28,473 - __main__ - INFO - written batch 2 | runtime 41: 0:00:01.331462\n",
      "2024-10-20 23:16:29,816 - __main__ - INFO - written batch 3 | runtime 36: 0:00:01.342367\n",
      "2024-10-20 23:16:31,274 - __main__ - INFO - written batch 4 | runtime 45: 0:00:01.457675\n",
      "2024-10-20 23:16:32,716 - __main__ - INFO - written batch 5 | runtime 48: 0:00:01.440515\n",
      "2024-10-20 23:16:34,168 - __main__ - INFO - written batch 6 | runtime 48: 0:00:01.451199\n",
      "2024-10-20 23:16:35,324 - __main__ - INFO - written batch 7 | runtime 34: 0:00:01.155093\n",
      "2024-10-20 23:16:36,469 - __main__ - INFO - written batch 8 | runtime 33: 0:00:01.144997\n",
      "2024-10-20 23:16:37,561 - __main__ - INFO - written batch 9 | runtime 30: 0:00:01.091172\n",
      "2024-10-20 23:16:38,738 - __main__ - INFO - written batch 10 | runtime 35: 0:00:01.175546\n",
      "2024-10-20 23:16:39,952 - __main__ - INFO - written batch 11 | runtime 35: 0:00:01.213240\n",
      "2024-10-20 23:16:41,274 - __main__ - INFO - written batch 12 | runtime 41: 0:00:01.321648\n",
      "2024-10-20 23:16:42,782 - __main__ - INFO - written batch 13 | runtime 41: 0:00:01.507024\n",
      "2024-10-20 23:16:44,164 - __main__ - INFO - written batch 14 | runtime 43: 0:00:01.380992\n",
      "2024-10-20 23:16:45,419 - __main__ - INFO - written batch 15 | runtime 37: 0:00:01.254425\n",
      "2024-10-20 23:16:46,600 - __main__ - INFO - written batch 16 | runtime 34: 0:00:01.180436\n",
      "2024-10-20 23:16:47,816 - __main__ - INFO - written batch 17 | runtime 33: 0:00:01.215759\n",
      "2024-10-20 23:16:49,016 - __main__ - INFO - written batch 18 | runtime 34: 0:00:01.199061\n",
      "2024-10-20 23:16:50,369 - __main__ - INFO - written batch 19 | runtime 38: 0:00:01.351849\n",
      "2024-10-20 23:16:51,806 - __main__ - INFO - written batch 20 | runtime 43: 0:00:01.436992\n",
      "2024-10-20 23:16:53,449 - __main__ - INFO - written batch 21 | runtime 48: 0:00:01.641769\n",
      "2024-10-20 23:16:54,771 - __main__ - INFO - written batch 22 | runtime 42: 0:00:01.321342\n",
      "2024-10-20 23:16:56,168 - __main__ - INFO - written batch 23 | runtime 38: 0:00:01.396472\n",
      "2024-10-20 23:16:57,509 - __main__ - INFO - written batch 24 | runtime 43: 0:00:01.340340\n",
      "2024-10-20 23:16:58,904 - __main__ - INFO - written batch 25 | runtime 45: 0:00:01.394099\n",
      "2024-10-20 23:17:00,269 - __main__ - INFO - written batch 26 | runtime 44: 0:00:01.364315\n",
      "2024-10-20 23:17:01,457 - __main__ - INFO - written batch 27 | runtime 33: 0:00:01.186941\n",
      "2024-10-20 23:17:03,244 - __main__ - INFO - written batch 28 | runtime 50: 0:00:01.786198\n",
      "2024-10-20 23:17:04,817 - __main__ - INFO - written batch 29 | runtime 53: 0:00:01.572489\n",
      "2024-10-20 23:17:06,309 - __main__ - INFO - written batch 30 | runtime 45: 0:00:01.490945\n",
      "2024-10-20 23:17:08,024 - __main__ - INFO - written batch 31 | runtime 55: 0:00:01.715239\n",
      "2024-10-20 23:17:09,564 - __main__ - INFO - written batch 32 | runtime 44: 0:00:01.538454\n",
      "2024-10-20 23:17:11,277 - __main__ - INFO - written batch 33 | runtime 60: 0:00:01.712015\n",
      "2024-10-20 23:17:12,584 - __main__ - INFO - written batch 34 | runtime 42: 0:00:01.307032\n",
      "2024-10-20 23:17:13,740 - __main__ - INFO - written batch 35 | runtime 35: 0:00:01.155006\n",
      "2024-10-20 23:17:14,898 - __main__ - INFO - written batch 36 | runtime 36: 0:00:01.157397\n",
      "2024-10-20 23:17:16,156 - __main__ - INFO - written batch 37 | runtime 38: 0:00:01.257029\n",
      "2024-10-20 23:17:17,397 - __main__ - INFO - written batch 38 | runtime 37: 0:00:01.240116\n",
      "2024-10-20 23:17:18,534 - __main__ - INFO - written batch 39 | runtime 34: 0:00:01.137026\n",
      "2024-10-20 23:17:19,704 - __main__ - INFO - written batch 40 | runtime 35: 0:00:01.168558\n",
      "2024-10-20 23:17:20,970 - __main__ - INFO - written batch 41 | runtime 35: 0:00:01.265860\n",
      "2024-10-20 23:17:22,351 - __main__ - INFO - written batch 42 | runtime 38: 0:00:01.379884\n",
      "2024-10-20 23:17:23,600 - __main__ - INFO - written batch 43 | runtime 37: 0:00:01.248240\n",
      "2024-10-20 23:17:24,684 - __main__ - INFO - written batch 44 | runtime 31: 0:00:01.083080\n",
      "2024-10-20 23:17:25,306 - __main__ - INFO - written batch 45 | runtime 35: 0:00:00.620837\n",
      "2024-10-20 23:17:25,308 - __main__ - INFO - OBI title RUBERT_TINY2 | overall runtime: 0:01:00.960998\n",
      "2024-10-20 23:17:25,309 - __main__ - INFO - field: description\n",
      "2024-10-20 23:17:48,002 - __main__ - INFO - written batch 0 | runtime 662: 0:00:22.692838\n",
      "2024-10-20 23:18:12,675 - __main__ - INFO - written batch 1 | runtime 714: 0:00:24.671639\n",
      "2024-10-20 23:18:32,433 - __main__ - INFO - written batch 2 | runtime 591: 0:00:19.757866\n",
      "2024-10-20 23:18:47,409 - __main__ - INFO - written batch 3 | runtime 478: 0:00:14.974936\n",
      "2024-10-20 23:19:12,066 - __main__ - INFO - written batch 4 | runtime 707: 0:00:24.656776\n",
      "2024-10-20 23:19:30,362 - __main__ - INFO - written batch 5 | runtime 657: 0:00:18.294429\n",
      "2024-10-20 23:19:48,260 - __main__ - INFO - written batch 6 | runtime 608: 0:00:17.897881\n",
      "2024-10-20 23:20:03,268 - __main__ - INFO - written batch 7 | runtime 505: 0:00:15.006692\n",
      "2024-10-20 23:20:14,316 - __main__ - INFO - written batch 8 | runtime 404: 0:00:11.047494\n",
      "2024-10-20 23:20:24,958 - __main__ - INFO - written batch 9 | runtime 414: 0:00:10.640979\n",
      "2024-10-20 23:20:41,184 - __main__ - INFO - written batch 10 | runtime 523: 0:00:16.225579\n",
      "2024-10-20 23:20:56,626 - __main__ - INFO - written batch 11 | runtime 517: 0:00:15.441242\n",
      "2024-10-20 23:21:04,652 - __main__ - INFO - written batch 12 | runtime 313: 0:00:08.025551\n",
      "2024-10-20 23:21:12,990 - __main__ - INFO - written batch 13 | runtime 307: 0:00:08.336981\n",
      "2024-10-20 23:21:21,204 - __main__ - INFO - written batch 14 | runtime 307: 0:00:08.212871\n",
      "2024-10-20 23:21:39,560 - __main__ - INFO - written batch 15 | runtime 610: 0:00:18.355393\n",
      "2024-10-20 23:21:55,786 - __main__ - INFO - written batch 16 | runtime 552: 0:00:16.225880\n",
      "2024-10-20 23:22:21,436 - __main__ - INFO - written batch 17 | runtime 738: 0:00:25.648670\n",
      "2024-10-20 23:22:49,875 - __main__ - INFO - written batch 18 | runtime 795: 0:00:28.438591\n",
      "2024-10-20 23:23:13,284 - __main__ - INFO - written batch 19 | runtime 702: 0:00:23.408302\n",
      "2024-10-20 23:23:43,956 - __main__ - INFO - written batch 20 | runtime 884: 0:00:30.670731\n",
      "2024-10-20 23:24:17,003 - __main__ - INFO - written batch 21 | runtime 1000: 0:00:33.046388\n",
      "2024-10-20 23:24:31,050 - __main__ - INFO - written batch 22 | runtime 535: 0:00:14.046279\n",
      "2024-10-20 23:24:46,852 - __main__ - INFO - written batch 23 | runtime 595: 0:00:15.801661\n",
      "2024-10-20 23:25:02,430 - __main__ - INFO - written batch 24 | runtime 613: 0:00:15.577549\n",
      "2024-10-20 23:25:12,418 - __main__ - INFO - written batch 25 | runtime 437: 0:00:09.986753\n",
      "2024-10-20 23:25:24,826 - __main__ - INFO - written batch 26 | runtime 460: 0:00:12.407712\n",
      "2024-10-20 23:25:37,792 - __main__ - INFO - written batch 27 | runtime 462: 0:00:12.964999\n",
      "2024-10-20 23:25:52,302 - __main__ - INFO - written batch 28 | runtime 502: 0:00:14.509480\n",
      "2024-10-20 23:26:03,157 - __main__ - INFO - written batch 29 | runtime 396: 0:00:10.853738\n",
      "2024-10-20 23:26:12,578 - __main__ - INFO - written batch 30 | runtime 350: 0:00:09.420652\n",
      "2024-10-20 23:26:21,845 - __main__ - INFO - written batch 31 | runtime 350: 0:00:09.266602\n",
      "2024-10-20 23:26:31,886 - __main__ - INFO - written batch 32 | runtime 405: 0:00:10.039948\n",
      "2024-10-20 23:26:46,597 - __main__ - INFO - written batch 33 | runtime 504: 0:00:14.709634\n",
      "2024-10-20 23:26:54,004 - __main__ - INFO - written batch 34 | runtime 301: 0:00:07.406480\n",
      "2024-10-20 23:27:03,647 - __main__ - INFO - written batch 35 | runtime 348: 0:00:09.642050\n",
      "2024-10-20 23:27:12,365 - __main__ - INFO - written batch 36 | runtime 351: 0:00:08.717380\n",
      "2024-10-20 23:27:24,372 - __main__ - INFO - written batch 37 | runtime 458: 0:00:12.006709\n",
      "2024-10-20 23:27:32,172 - __main__ - INFO - written batch 38 | runtime 332: 0:00:07.799166\n",
      "2024-10-20 23:27:38,811 - __main__ - INFO - written batch 39 | runtime 336: 0:00:06.637725\n",
      "2024-10-20 23:27:50,744 - __main__ - INFO - written batch 40 | runtime 517: 0:00:11.932144\n",
      "2024-10-20 23:28:07,505 - __main__ - INFO - written batch 41 | runtime 562: 0:00:16.760646\n",
      "2024-10-20 23:28:19,714 - __main__ - INFO - written batch 42 | runtime 435: 0:00:12.207743\n",
      "2024-10-20 23:28:32,464 - __main__ - INFO - written batch 43 | runtime 448: 0:00:12.749628\n",
      "2024-10-20 23:28:40,282 - __main__ - INFO - written batch 44 | runtime 321: 0:00:07.816862\n",
      "2024-10-20 23:28:53,656 - __main__ - INFO - written batch 45 | runtime 727: 0:00:13.373983\n",
      "2024-10-20 23:28:53,659 - __main__ - INFO - OBI description RUBERT_TINY2 | overall runtime: 0:11:28.349988\n",
      "2024-10-20 23:28:53,660 - __main__ - INFO - ebedding: sergeyzh/LaBSE-ru-turbo\n"
     ]
    },
    {
     "data": {
      "text/plain": "tokenizer_config.json:   0%|          | 0.00/1.29k [00:00<?, ?B/s]",
      "application/vnd.jupyter.widget-view+json": {
       "version_major": 2,
       "version_minor": 0,
       "model_id": "cea002118b5b4942a8eaaaca10667e56"
      }
     },
     "metadata": {},
     "output_type": "display_data"
    },
    {
     "data": {
      "text/plain": "vocab.txt:   0%|          | 0.00/576k [00:00<?, ?B/s]",
      "application/vnd.jupyter.widget-view+json": {
       "version_major": 2,
       "version_minor": 0,
       "model_id": "d89212b773cb49e2a4608de65b9e8d6b"
      }
     },
     "metadata": {},
     "output_type": "display_data"
    },
    {
     "data": {
      "text/plain": "special_tokens_map.json:   0%|          | 0.00/732 [00:00<?, ?B/s]",
      "application/vnd.jupyter.widget-view+json": {
       "version_major": 2,
       "version_minor": 0,
       "model_id": "f483d7f267944248ae85afe3c78a0a8a"
      }
     },
     "metadata": {},
     "output_type": "display_data"
    },
    {
     "data": {
      "text/plain": "config.json:   0%|          | 0.00/887 [00:00<?, ?B/s]",
      "application/vnd.jupyter.widget-view+json": {
       "version_major": 2,
       "version_minor": 0,
       "model_id": "89a87f3a4a164b7fb98ab482a2a9265c"
      }
     },
     "metadata": {},
     "output_type": "display_data"
    },
    {
     "data": {
      "text/plain": "model.safetensors:   0%|          | 0.00/513M [00:00<?, ?B/s]",
      "application/vnd.jupyter.widget-view+json": {
       "version_major": 2,
       "version_minor": 0,
       "model_id": "19615c15100b42239d2943dc76e67fdd"
      }
     },
     "metadata": {},
     "output_type": "display_data"
    },
    {
     "name": "stderr",
     "output_type": "stream",
     "text": [
      "2024-10-20 23:29:56,247 - __main__ - INFO - store: STROYDVOR\n",
      "2024-10-20 23:29:56,748 - __main__ - INFO - field: title\n",
      "2024-10-20 23:30:19,201 - __main__ - INFO - written batch 0 | runtime 46: 0:00:22.449564\n",
      "2024-10-20 23:30:38,894 - __main__ - INFO - written batch 1 | runtime 40: 0:00:19.691617\n",
      "2024-10-20 23:30:58,223 - __main__ - INFO - written batch 2 | runtime 39: 0:00:19.328847\n",
      "2024-10-20 23:31:15,263 - __main__ - INFO - written batch 3 | runtime 34: 0:00:17.038861\n",
      "2024-10-20 23:31:31,140 - __main__ - INFO - written batch 4 | runtime 32: 0:00:15.876284\n",
      "2024-10-20 23:31:46,242 - __main__ - INFO - written batch 5 | runtime 30: 0:00:15.100582\n",
      "2024-10-20 23:32:03,167 - __main__ - INFO - written batch 6 | runtime 34: 0:00:16.923918\n",
      "2024-10-20 23:32:20,195 - __main__ - INFO - written batch 7 | runtime 34: 0:00:17.026952\n",
      "2024-10-20 23:32:43,226 - __main__ - INFO - written batch 8 | runtime 45: 0:00:23.030780\n",
      "2024-10-20 23:33:04,425 - __main__ - INFO - written batch 9 | runtime 41: 0:00:21.197500\n",
      "2024-10-20 23:33:26,526 - __main__ - INFO - written batch 10 | runtime 43: 0:00:22.101051\n",
      "2024-10-20 23:33:50,139 - __main__ - INFO - written batch 11 | runtime 48: 0:00:23.611275\n",
      "2024-10-20 23:34:14,225 - __main__ - INFO - written batch 12 | runtime 49: 0:00:24.084991\n",
      "2024-10-20 23:34:37,423 - __main__ - INFO - written batch 13 | runtime 47: 0:00:23.197740\n",
      "2024-10-20 23:34:38,582 - __main__ - INFO - written batch 14 | runtime 23: 0:00:01.158071\n",
      "2024-10-20 23:34:38,584 - __main__ - INFO - STROYDVOR title LABSE_RU_TURBO | overall runtime: 0:04:41.834951\n",
      "2024-10-20 23:34:38,584 - __main__ - INFO - field: description\n",
      "2024-10-20 23:38:52,205 - __main__ - INFO - written batch 0 | runtime 512: 0:04:13.619616\n",
      "2024-10-20 23:42:33,166 - __main__ - INFO - written batch 1 | runtime 512: 0:03:40.958629\n",
      "2024-10-20 23:45:25,077 - __main__ - INFO - written batch 2 | runtime 512: 0:02:51.910875\n",
      "2024-10-20 23:48:55,971 - __main__ - INFO - written batch 3 | runtime 512: 0:03:30.893117\n",
      "2024-10-20 23:51:16,887 - __main__ - INFO - written batch 4 | runtime 512: 0:02:20.914758\n",
      "2024-10-20 23:53:46,292 - __main__ - INFO - written batch 5 | runtime 512: 0:02:29.403797\n",
      "2024-10-20 23:56:52,312 - __main__ - INFO - written batch 6 | runtime 512: 0:03:06.019455\n",
      "2024-10-21 00:00:17,332 - __main__ - INFO - written batch 7 | runtime 512: 0:03:25.019594\n",
      "2024-10-21 00:02:35,597 - __main__ - INFO - written batch 8 | runtime 512: 0:02:18.263996\n",
      "2024-10-21 00:04:47,118 - __main__ - INFO - written batch 9 | runtime 512: 0:02:11.520669\n",
      "2024-10-21 00:06:36,402 - __main__ - INFO - written batch 10 | runtime 512: 0:01:49.282366\n",
      "2024-10-21 00:09:24,695 - __main__ - INFO - written batch 11 | runtime 512: 0:02:48.292731\n",
      "2024-10-21 00:11:30,221 - __main__ - INFO - written batch 12 | runtime 512: 0:02:05.524465\n",
      "2024-10-21 00:14:31,451 - __main__ - INFO - written batch 13 | runtime 512: 0:03:01.230142\n",
      "2024-10-21 00:14:34,947 - __main__ - INFO - written batch 14 | runtime 69: 0:00:03.494583\n",
      "2024-10-21 00:14:34,949 - __main__ - INFO - STROYDVOR description LABSE_RU_TURBO | overall runtime: 0:39:56.363817\n",
      "2024-10-21 00:14:34,949 - __main__ - INFO - store: OBI\n",
      "/tmp/ipykernel_3610/1057270512.py:14: DtypeWarning: Columns (35,49) have mixed types. Specify dtype option on import or set low_memory=False.\n",
      "  df = pd.read_csv(csv_path)\n",
      "2024-10-21 00:14:36,851 - __main__ - INFO - field: title\n",
      "2024-10-21 00:15:00,465 - __main__ - INFO - written batch 0 | runtime 48: 0:00:23.612586\n",
      "2024-10-21 00:15:21,399 - __main__ - INFO - written batch 1 | runtime 41: 0:00:20.933049\n",
      "2024-10-21 00:15:43,720 - __main__ - INFO - written batch 2 | runtime 44: 0:00:22.320745\n",
      "2024-10-21 00:16:03,179 - __main__ - INFO - written batch 3 | runtime 38: 0:00:19.457694\n",
      "2024-10-21 00:16:26,211 - __main__ - INFO - written batch 4 | runtime 45: 0:00:23.031090\n",
      "2024-10-21 00:16:50,098 - __main__ - INFO - written batch 5 | runtime 47: 0:00:23.887209\n",
      "2024-10-21 00:17:14,362 - __main__ - INFO - written batch 6 | runtime 48: 0:00:24.262535\n",
      "2024-10-21 00:17:32,109 - __main__ - INFO - written batch 7 | runtime 35: 0:00:17.746775\n",
      "2024-10-21 00:17:49,935 - __main__ - INFO - written batch 8 | runtime 35: 0:00:17.824804\n",
      "2024-10-21 00:18:05,454 - __main__ - INFO - written batch 9 | runtime 30: 0:00:15.518704\n",
      "2024-10-21 00:18:22,291 - __main__ - INFO - written batch 10 | runtime 33: 0:00:16.835584\n",
      "2024-10-21 00:18:42,842 - __main__ - INFO - written batch 11 | runtime 39: 0:00:20.550637\n",
      "2024-10-21 00:19:04,025 - __main__ - INFO - written batch 12 | runtime 40: 0:00:21.182269\n",
      "2024-10-21 00:19:24,824 - __main__ - INFO - written batch 13 | runtime 41: 0:00:20.798374\n",
      "2024-10-21 00:19:45,987 - __main__ - INFO - written batch 14 | runtime 42: 0:00:21.161511\n",
      "2024-10-21 00:20:06,163 - __main__ - INFO - written batch 15 | runtime 40: 0:00:20.176150\n",
      "2024-10-21 00:20:26,442 - __main__ - INFO - written batch 16 | runtime 40: 0:00:20.277630\n",
      "2024-10-21 00:20:44,336 - __main__ - INFO - written batch 17 | runtime 35: 0:00:17.893225\n",
      "2024-10-21 00:21:02,033 - __main__ - INFO - written batch 18 | runtime 34: 0:00:17.696136\n",
      "2024-10-21 00:21:24,622 - __main__ - INFO - written batch 19 | runtime 42: 0:00:22.588917\n",
      "2024-10-21 00:21:46,318 - __main__ - INFO - written batch 20 | runtime 43: 0:00:21.694506\n",
      "2024-10-21 00:22:11,822 - __main__ - INFO - written batch 21 | runtime 49: 0:00:25.503195\n",
      "2024-10-21 00:22:33,072 - __main__ - INFO - written batch 22 | runtime 42: 0:00:21.248920\n",
      "2024-10-21 00:22:52,787 - __main__ - INFO - written batch 23 | runtime 39: 0:00:19.714393\n",
      "2024-10-21 00:23:15,327 - __main__ - INFO - written batch 24 | runtime 45: 0:00:22.538996\n",
      "2024-10-21 00:23:37,890 - __main__ - INFO - written batch 25 | runtime 45: 0:00:22.562340\n",
      "2024-10-21 00:24:00,418 - __main__ - INFO - written batch 26 | runtime 45: 0:00:22.527034\n",
      "2024-10-21 00:24:19,457 - __main__ - INFO - written batch 27 | runtime 38: 0:00:19.038555\n",
      "2024-10-21 00:24:43,429 - __main__ - INFO - written batch 28 | runtime 47: 0:00:23.971242\n",
      "2024-10-21 00:25:07,258 - __main__ - INFO - written batch 29 | runtime 48: 0:00:23.828158\n",
      "2024-10-21 00:25:28,788 - __main__ - INFO - written batch 30 | runtime 43: 0:00:21.529533\n",
      "2024-10-21 00:25:56,924 - __main__ - INFO - written batch 31 | runtime 56: 0:00:28.135340\n",
      "2024-10-21 00:26:17,778 - __main__ - INFO - written batch 32 | runtime 39: 0:00:20.853010\n",
      "2024-10-21 00:26:50,498 - __main__ - INFO - written batch 33 | runtime 64: 0:00:32.719206\n",
      "2024-10-21 00:27:14,584 - __main__ - INFO - written batch 34 | runtime 47: 0:00:24.085640\n",
      "2024-10-21 00:27:32,836 - __main__ - INFO - written batch 35 | runtime 35: 0:00:18.251020\n",
      "2024-10-21 00:27:53,201 - __main__ - INFO - written batch 36 | runtime 40: 0:00:20.364433\n",
      "2024-10-21 00:28:14,293 - __main__ - INFO - written batch 37 | runtime 41: 0:00:21.091088\n",
      "2024-10-21 00:28:33,304 - __main__ - INFO - written batch 38 | runtime 37: 0:00:19.009978\n",
      "2024-10-21 00:28:51,980 - __main__ - INFO - written batch 39 | runtime 36: 0:00:18.675784\n",
      "2024-10-21 00:29:09,905 - __main__ - INFO - written batch 40 | runtime 33: 0:00:17.924028\n",
      "2024-10-21 00:29:28,418 - __main__ - INFO - written batch 41 | runtime 36: 0:00:18.512129\n",
      "2024-10-21 00:29:47,250 - __main__ - INFO - written batch 42 | runtime 36: 0:00:18.830886\n",
      "2024-10-21 00:30:04,524 - __main__ - INFO - written batch 43 | runtime 34: 0:00:17.273357\n",
      "2024-10-21 00:30:21,753 - __main__ - INFO - written batch 44 | runtime 34: 0:00:17.227690\n",
      "2024-10-21 00:30:31,656 - __main__ - INFO - written batch 45 | runtime 34: 0:00:09.902006\n",
      "2024-10-21 00:30:31,658 - __main__ - INFO - OBI title LABSE_RU_TURBO | overall runtime: 0:15:54.806780\n",
      "2024-10-21 00:30:31,659 - __main__ - INFO - field: description\n",
      "2024-10-21 00:34:54,937 - __main__ - INFO - written batch 0 | runtime 512: 0:04:23.277229\n",
      "2024-10-21 00:39:08,915 - __main__ - INFO - written batch 1 | runtime 512: 0:04:13.927831\n",
      "2024-10-21 00:43:23,573 - __main__ - INFO - written batch 2 | runtime 512: 0:04:14.652407\n",
      "2024-10-21 00:47:37,414 - __main__ - INFO - written batch 3 | runtime 512: 0:04:13.834821\n",
      "2024-10-21 00:51:37,450 - __main__ - INFO - written batch 4 | runtime 512: 0:04:00.033871\n",
      "2024-10-21 00:55:02,077 - __main__ - INFO - written batch 5 | runtime 512: 0:03:24.626305\n",
      "2024-10-21 00:58:52,499 - __main__ - INFO - written batch 6 | runtime 512: 0:03:50.421422\n",
      "2024-10-21 01:02:57,811 - __main__ - INFO - written batch 7 | runtime 512: 0:04:05.311425\n",
      "2024-10-21 01:06:40,756 - __main__ - INFO - written batch 8 | runtime 483: 0:03:42.943924\n",
      "2024-10-21 01:10:11,282 - __main__ - INFO - written batch 9 | runtime 493: 0:03:30.524676\n",
      "2024-10-21 01:14:20,380 - __main__ - INFO - written batch 10 | runtime 512: 0:04:09.097755\n",
      "2024-10-21 01:18:19,811 - __main__ - INFO - written batch 11 | runtime 512: 0:03:59.429663\n",
      "2024-10-21 01:21:03,244 - __main__ - INFO - written batch 12 | runtime 363: 0:02:43.432196\n",
      "2024-10-21 01:23:54,574 - __main__ - INFO - written batch 13 | runtime 363: 0:02:51.329152\n",
      "2024-10-21 01:26:45,997 - __main__ - INFO - written batch 14 | runtime 363: 0:02:51.422448\n",
      "2024-10-21 01:30:37,913 - __main__ - INFO - written batch 15 | runtime 512: 0:03:51.915701\n",
      "2024-10-21 01:34:32,702 - __main__ - INFO - written batch 16 | runtime 512: 0:03:54.788190\n",
      "2024-10-21 01:38:41,368 - __main__ - INFO - written batch 17 | runtime 512: 0:04:08.664549\n",
      "2024-10-21 01:42:48,433 - __main__ - INFO - written batch 18 | runtime 512: 0:04:07.063853\n",
      "2024-10-21 01:46:50,101 - __main__ - INFO - written batch 19 | runtime 512: 0:04:01.667317\n",
      "2024-10-21 01:50:40,315 - __main__ - INFO - written batch 20 | runtime 512: 0:03:50.213602\n",
      "2024-10-21 01:54:10,794 - __main__ - INFO - written batch 21 | runtime 512: 0:03:30.478287\n",
      "2024-10-21 01:57:38,703 - __main__ - INFO - written batch 22 | runtime 512: 0:03:27.907820\n",
      "2024-10-21 02:01:03,837 - __main__ - INFO - written batch 23 | runtime 512: 0:03:25.133394\n",
      "2024-10-21 02:04:18,951 - __main__ - INFO - written batch 24 | runtime 512: 0:03:15.113633\n",
      "2024-10-21 02:07:30,942 - __main__ - INFO - written batch 25 | runtime 503: 0:03:11.990490\n",
      "2024-10-21 02:11:17,560 - __main__ - INFO - written batch 26 | runtime 512: 0:03:46.616632\n",
      "2024-10-21 02:15:11,211 - __main__ - INFO - written batch 27 | runtime 512: 0:03:53.650983\n",
      "2024-10-21 02:19:05,246 - __main__ - INFO - written batch 28 | runtime 512: 0:03:54.033172\n",
      "2024-10-21 02:22:37,891 - __main__ - INFO - written batch 29 | runtime 457: 0:03:32.644838\n",
      "2024-10-21 02:25:52,652 - __main__ - INFO - written batch 30 | runtime 420: 0:03:14.759920\n",
      "2024-10-21 02:29:02,929 - __main__ - INFO - written batch 31 | runtime 420: 0:03:10.276315\n",
      "2024-10-21 02:32:13,250 - __main__ - INFO - written batch 32 | runtime 453: 0:03:10.321060\n",
      "2024-10-21 02:36:14,389 - __main__ - INFO - written batch 33 | runtime 512: 0:04:01.138164\n",
      "2024-10-21 02:38:44,985 - __main__ - INFO - written batch 34 | runtime 347: 0:02:30.595584\n",
      "2024-10-21 02:41:54,831 - __main__ - INFO - written batch 35 | runtime 401: 0:03:09.845224\n",
      "2024-10-21 02:44:38,102 - __main__ - INFO - written batch 36 | runtime 385: 0:02:43.270212\n",
      "2024-10-21 02:48:06,784 - __main__ - INFO - written batch 37 | runtime 491: 0:03:28.680650\n",
      "2024-10-21 02:50:32,154 - __main__ - INFO - written batch 38 | runtime 369: 0:02:25.369927\n",
      "2024-10-21 02:52:39,918 - __main__ - INFO - written batch 39 | runtime 375: 0:02:07.762776\n",
      "2024-10-21 02:55:37,677 - __main__ - INFO - written batch 40 | runtime 512: 0:02:57.758240\n",
      "2024-10-21 02:59:31,683 - __main__ - INFO - written batch 41 | runtime 512: 0:03:54.005223\n",
      "2024-10-21 03:03:14,500 - __main__ - INFO - written batch 42 | runtime 512: 0:03:42.816681\n",
      "2024-10-21 03:07:09,675 - __main__ - INFO - written batch 43 | runtime 495: 0:03:55.174187\n",
      "2024-10-21 03:09:53,385 - __main__ - INFO - written batch 44 | runtime 375: 0:02:43.708344\n",
      "2024-10-21 03:11:57,744 - __main__ - INFO - written batch 45 | runtime 512: 0:02:04.358854\n",
      "2024-10-21 03:11:57,747 - __main__ - INFO - OBI description LABSE_RU_TURBO | overall runtime: 2:41:26.087616\n",
      "2024-10-21 03:11:57,747 - __main__ - INFO - ebedding: intfloat/multilingual-e5-large-instruct\n"
     ]
    },
    {
     "data": {
      "text/plain": "tokenizer_config.json:   0%|          | 0.00/1.18k [00:00<?, ?B/s]",
      "application/vnd.jupyter.widget-view+json": {
       "version_major": 2,
       "version_minor": 0,
       "model_id": "93880adb85324a06883d6bc0fea64b33"
      }
     },
     "metadata": {},
     "output_type": "display_data"
    },
    {
     "data": {
      "text/plain": "sentencepiece.bpe.model:   0%|          | 0.00/5.07M [00:00<?, ?B/s]",
      "application/vnd.jupyter.widget-view+json": {
       "version_major": 2,
       "version_minor": 0,
       "model_id": "78e5dfd404144529876b46500de440c3"
      }
     },
     "metadata": {},
     "output_type": "display_data"
    },
    {
     "data": {
      "text/plain": "tokenizer.json:   0%|          | 0.00/17.1M [00:00<?, ?B/s]",
      "application/vnd.jupyter.widget-view+json": {
       "version_major": 2,
       "version_minor": 0,
       "model_id": "4a5449f7a66942e983d4890676868ff3"
      }
     },
     "metadata": {},
     "output_type": "display_data"
    },
    {
     "data": {
      "text/plain": "special_tokens_map.json:   0%|          | 0.00/964 [00:00<?, ?B/s]",
      "application/vnd.jupyter.widget-view+json": {
       "version_major": 2,
       "version_minor": 0,
       "model_id": "9f5729855a344959bebfba7a6988dbe6"
      }
     },
     "metadata": {},
     "output_type": "display_data"
    },
    {
     "data": {
      "text/plain": "config.json:   0%|          | 0.00/690 [00:00<?, ?B/s]",
      "application/vnd.jupyter.widget-view+json": {
       "version_major": 2,
       "version_minor": 0,
       "model_id": "cb1a3b530d5e47aab4267e14c252e21f"
      }
     },
     "metadata": {},
     "output_type": "display_data"
    },
    {
     "data": {
      "text/plain": "model.safetensors:   0%|          | 0.00/1.12G [00:00<?, ?B/s]",
      "application/vnd.jupyter.widget-view+json": {
       "version_major": 2,
       "version_minor": 0,
       "model_id": "a2879c77885c4c5db2d3960ccf894e73"
      }
     },
     "metadata": {},
     "output_type": "display_data"
    },
    {
     "name": "stderr",
     "output_type": "stream",
     "text": [
      "2024-10-21 03:14:06,865 - __main__ - INFO - store: STROYDVOR\n",
      "2024-10-21 03:14:07,440 - __main__ - INFO - field: title\n",
      "2024-10-21 03:15:18,846 - __main__ - INFO - written batch 0 | runtime 42: 0:01:11.401169\n",
      "2024-10-21 03:16:27,395 - __main__ - INFO - written batch 1 | runtime 40: 0:01:08.548412\n",
      "2024-10-21 03:17:32,493 - __main__ - INFO - written batch 2 | runtime 38: 0:01:05.096960\n",
      "2024-10-21 03:18:30,707 - __main__ - INFO - written batch 3 | runtime 34: 0:00:58.212576\n",
      "2024-10-21 03:19:27,107 - __main__ - INFO - written batch 4 | runtime 33: 0:00:56.399483\n",
      "2024-10-21 03:20:18,601 - __main__ - INFO - written batch 5 | runtime 30: 0:00:51.492441\n",
      "2024-10-21 03:21:13,697 - __main__ - INFO - written batch 6 | runtime 32: 0:00:55.095760\n",
      "2024-10-21 03:22:19,049 - __main__ - INFO - written batch 7 | runtime 38: 0:01:05.350852\n",
      "2024-10-21 03:23:36,270 - __main__ - INFO - written batch 8 | runtime 45: 0:01:17.220331\n",
      "2024-10-21 03:24:51,626 - __main__ - INFO - written batch 9 | runtime 44: 0:01:15.354567\n",
      "2024-10-21 03:26:05,520 - __main__ - INFO - written batch 10 | runtime 43: 0:01:13.893364\n",
      "2024-10-21 03:27:17,770 - __main__ - INFO - written batch 11 | runtime 42: 0:01:12.248664\n",
      "2024-10-21 03:28:40,063 - __main__ - INFO - written batch 12 | runtime 48: 0:01:22.292529\n",
      "2024-10-21 03:29:52,253 - __main__ - INFO - written batch 13 | runtime 42: 0:01:12.188841\n",
      "2024-10-21 03:29:56,645 - __main__ - INFO - written batch 14 | runtime 26: 0:00:04.390759\n",
      "2024-10-21 03:29:56,646 - __main__ - INFO - STROYDVOR title MULTILINGUAL_E5_LARGE_INSTRUCT | overall runtime: 0:15:49.205397\n",
      "2024-10-21 03:29:56,647 - __main__ - INFO - field: description\n"
     ]
    }
   ],
   "source": [
    "import datetime\n",
    "from transformers import AutoTokenizer, AutoModel\n",
    "from create_embeddings.schemas.embedding import ProductEmbedding\n",
    "from parsers.runnures.utils.csv import CsvWriter\n",
    "import pandas as pd\n",
    "\n",
    "\n",
    "for ebedding in ebeddins_list:\n",
    "    logger.info(f'ebedding: {ebedding.name}')\n",
    "    tokenizer = AutoTokenizer.from_pretrained(ebedding.name)\n",
    "    model = AutoModel.from_pretrained(ebedding.name)\n",
    "    for store, csv_path in store_map.items():\n",
    "        logger.info(f'store: {store}')\n",
    "        df = pd.read_csv(csv_path)\n",
    "        for field in fields_to_encode:\n",
    "            logger.info(f'field: {field}')\n",
    "            datetime_start_over_all = datetime.datetime.now()\n",
    "            csv_writer: CsvWriter[ProductEmbedding] = CsvWriter(f'products_embeddings_{store}_{field}_{ebedding.name.name}.csv', ProductEmbedding, path=r'./data/')\n",
    "            i = 0\n",
    "            while True:\n",
    "                datetime_start = datetime.datetime.now()\n",
    "                batch_df = df[[uid_column, field]][BATCH_SIZE * i:BATCH_SIZE * (i+1)]\n",
    "                if len(batch_df) == 0:\n",
    "                    break\n",
    "                batch_df.dropna(inplace=True)\n",
    "                uid_data = batch_df[uid_column].tolist()\n",
    "                data = batch_df[field].tolist()\n",
    "\n",
    "                encoded_input = tokenizer(data, padding=True, truncation=True, return_tensors='pt')\n",
    "                with torch.no_grad():\n",
    "                    model_output = model(**encoded_input)\n",
    "                    sentence_embeddings = model_output[0][:, 0]\n",
    "\n",
    "                sentence_embeddings_list = sentence_embeddings.tolist()\n",
    "                csv_data_to_write = []\n",
    "                for write_index in range(len(uid_data)):\n",
    "                    csv_data_to_write.append(ProductEmbedding(\n",
    "                            uid=uid_data[write_index],\n",
    "                            field=field,\n",
    "                            store=store,\n",
    "                            model=ebedding.name,\n",
    "                            embedding=sentence_embeddings_list[write_index]\n",
    "                    ))\n",
    "                csv_writer.write_lines(csv_data_to_write)\n",
    "                logger.info(f'written batch {i} | runtime {encoded_input[\"input_ids\"].size()}: {datetime.datetime.now() - datetime_start}')\n",
    "\n",
    "                i += 1\n",
    "            del csv_writer\n",
    "            logger.info(f'overall runtime: {datetime.datetime.now() - datetime_start_over_all} | {store} {field} {ebedding.name.name}')"
   ],
   "metadata": {
    "collapsed": false,
    "is_executing": true,
    "ExecuteTime": {
     "start_time": "2024-10-20T20:12:01.086507096Z"
    }
   }
  },
  {
   "cell_type": "markdown",
   "source": [
    "# R&D"
   ],
   "metadata": {
    "collapsed": false
   }
  },
  {
   "cell_type": "code",
   "execution_count": 3,
   "outputs": [
    {
     "name": "stderr",
     "output_type": "stream",
     "text": [
      "/tmp/ipykernel_870/2444982175.py:2: DtypeWarning: Columns (35,49) have mixed types. Specify dtype option on import or set low_memory=False.\n",
      "  df_b = pd.read_csv('/home/roman/PycharmProjects/personal/diploma/parsers/runnures/obi/data/products_merged.csv')\n"
     ]
    }
   ],
   "source": [
    "import pandas as pd\n",
    "\n",
    "df_a = pd.read_csv('/home/roman/PycharmProjects/personal/diploma/parsers/runnures/stroydvor/data/products.csv')\n",
    "df_b = pd.read_csv('/home/roman/PycharmProjects/personal/diploma/parsers/runnures/obi/data/products_merged.csv')"
   ],
   "metadata": {
    "collapsed": false,
    "ExecuteTime": {
     "end_time": "2024-10-20T17:25:45.511143723Z",
     "start_time": "2024-10-20T17:25:43.054318854Z"
    }
   }
  },
  {
   "cell_type": "code",
   "execution_count": 4,
   "outputs": [
    {
     "name": "stdout",
     "output_type": "stream",
     "text": [
      "<class 'pandas.core.frame.DataFrame'>\n",
      "RangeIndex: 14103 entries, 0 to 14102\n",
      "Data columns (total 50 columns):\n",
      " #   Column                                    Non-Null Count  Dtype  \n",
      "---  ------                                    --------------  -----  \n",
      " 0   uid                                       14103 non-null  object \n",
      " 1   store                                     14103 non-null  object \n",
      " 2   title                                     14103 non-null  object \n",
      " 3   url                                       14103 non-null  object \n",
      " 4   category                                  14103 non-null  object \n",
      " 5   description                               8916 non-null   object \n",
      " 6   images                                    14103 non-null  object \n",
      " 7   images__0                                 14095 non-null  object \n",
      " 8   images__1                                 8349 non-null   object \n",
      " 9   images__2                                 5485 non-null   object \n",
      " 10  images__3                                 3233 non-null   object \n",
      " 11  images__4                                 1733 non-null   object \n",
      " 12  images__5                                 972 non-null    object \n",
      " 13  price                                     14103 non-null  float64\n",
      " 14  properties__as_text                       14088 non-null  object \n",
      " 15  properties__as_dict                       14088 non-null  object \n",
      " 16  properties__brand                         11887 non-null  object \n",
      " 17  properties__label                         6785 non-null   object \n",
      " 18  properties__country                       8154 non-null   object \n",
      " 19  properties__color                         5815 non-null   object \n",
      " 20  properties__material                      7334 non-null   object \n",
      " 21  properties__mass__raw                     5073 non-null   object \n",
      " 22  properties__mass__num                     5073 non-null   float64\n",
      " 23  properties__mass__unit                    4839 non-null   object \n",
      " 24  properties__volume__raw                   867 non-null    object \n",
      " 25  properties__volume__num                   867 non-null    float64\n",
      " 26  properties__volume__unit                  866 non-null    object \n",
      " 27  properties__dimensions__raw               7261 non-null   object \n",
      " 28  properties__dimensions__d_list            14103 non-null  object \n",
      " 29  properties__dimensions__d_list__0         7261 non-null   float64\n",
      " 30  properties__dimensions__d_list__1         3289 non-null   float64\n",
      " 31  properties__dimensions__d_list__2         1578 non-null   float64\n",
      " 32  properties__dimensions__d_list__3         163 non-null    float64\n",
      " 33  properties__dimensions__d_list__4         0 non-null      float64\n",
      " 34  properties__dimensions__d_list__5         0 non-null      float64\n",
      " 35  properties__dimensions__all_units_parsed  7261 non-null   object \n",
      " 36  properties__art_codes                     14103 non-null  object \n",
      " 37  properties__art_codes__0                  14103 non-null  int64  \n",
      " 38  properties__art_codes__1                  4963 non-null   object \n",
      " 39  properties__art_codes__2                  582 non-null    object \n",
      " 40  properties__art_codes__3                  0 non-null      float64\n",
      " 41  properties__art_codes__4                  0 non-null      float64\n",
      " 42  properties__art_codes__5                  0 non-null      float64\n",
      " 43  properties__category_list_raw             14103 non-null  object \n",
      " 44  properties__category_list_raw__0          14103 non-null  object \n",
      " 45  properties__category_list_raw__1          14103 non-null  object \n",
      " 46  properties__category_list_raw__2          12215 non-null  object \n",
      " 47  properties__category_list_raw__3          2907 non-null   object \n",
      " 48  properties__category_list_raw__4          194 non-null    object \n",
      " 49  properties__category_list_raw__5          0 non-null      float64\n",
      "dtypes: float64(13), int64(1), object(36)\n",
      "memory usage: 5.4+ MB\n"
     ]
    }
   ],
   "source": [
    "df_a.info()"
   ],
   "metadata": {
    "collapsed": false,
    "ExecuteTime": {
     "end_time": "2024-10-20T17:25:59.072625380Z",
     "start_time": "2024-10-20T17:25:58.963363820Z"
    }
   }
  },
  {
   "cell_type": "code",
   "execution_count": 5,
   "outputs": [
    {
     "name": "stdout",
     "output_type": "stream",
     "text": [
      "<class 'pandas.core.frame.DataFrame'>\n",
      "RangeIndex: 45571 entries, 0 to 45570\n",
      "Data columns (total 50 columns):\n",
      " #   Column                                    Non-Null Count  Dtype  \n",
      "---  ------                                    --------------  -----  \n",
      " 0   uid                                       45571 non-null  object \n",
      " 1   store                                     45571 non-null  object \n",
      " 2   title                                     45571 non-null  object \n",
      " 3   url                                       45571 non-null  object \n",
      " 4   category                                  45571 non-null  object \n",
      " 5   description                               39457 non-null  object \n",
      " 6   images                                    45571 non-null  object \n",
      " 7   images__0                                 45571 non-null  object \n",
      " 8   images__1                                 21810 non-null  object \n",
      " 9   images__2                                 14436 non-null  object \n",
      " 10  images__3                                 9325 non-null   object \n",
      " 11  images__4                                 6329 non-null   object \n",
      " 12  images__5                                 4295 non-null   object \n",
      " 13  price                                     45571 non-null  float64\n",
      " 14  properties__as_text                       45571 non-null  object \n",
      " 15  properties__as_dict                       45571 non-null  object \n",
      " 16  properties__brand                         45571 non-null  object \n",
      " 17  properties__label                         45571 non-null  object \n",
      " 18  properties__country                       0 non-null      float64\n",
      " 19  properties__color                         45384 non-null  object \n",
      " 20  properties__material                      18301 non-null  object \n",
      " 21  properties__mass__raw                     45548 non-null  object \n",
      " 22  properties__mass__num                     45548 non-null  float64\n",
      " 23  properties__mass__unit                    20692 non-null  object \n",
      " 24  properties__volume__raw                   3637 non-null   object \n",
      " 25  properties__volume__num                   3637 non-null   float64\n",
      " 26  properties__volume__unit                  3631 non-null   object \n",
      " 27  properties__dimensions__raw               45570 non-null  object \n",
      " 28  properties__dimensions__d_list            45571 non-null  object \n",
      " 29  properties__dimensions__d_list__0         45547 non-null  float64\n",
      " 30  properties__dimensions__d_list__1         45537 non-null  float64\n",
      " 31  properties__dimensions__d_list__2         45529 non-null  float64\n",
      " 32  properties__dimensions__d_list__3         0 non-null      float64\n",
      " 33  properties__dimensions__d_list__4         0 non-null      float64\n",
      " 34  properties__dimensions__d_list__5         0 non-null      float64\n",
      " 35  properties__dimensions__all_units_parsed  45570 non-null  object \n",
      " 36  properties__art_codes                     45571 non-null  object \n",
      " 37  properties__art_codes__0                  45571 non-null  int64  \n",
      " 38  properties__art_codes__1                  1343 non-null   object \n",
      " 39  properties__art_codes__2                  0 non-null      float64\n",
      " 40  properties__art_codes__3                  0 non-null      float64\n",
      " 41  properties__art_codes__4                  0 non-null      float64\n",
      " 42  properties__art_codes__5                  0 non-null      float64\n",
      " 43  properties__category_list_raw             45571 non-null  object \n",
      " 44  properties__category_list_raw__0          45571 non-null  object \n",
      " 45  properties__category_list_raw__1          45571 non-null  object \n",
      " 46  properties__category_list_raw__2          45106 non-null  object \n",
      " 47  properties__category_list_raw__3          4858 non-null   object \n",
      " 48  properties__category_list_raw__4          442 non-null    object \n",
      " 49  properties__category_list_raw__5          5 non-null      object \n",
      "dtypes: float64(14), int64(1), object(35)\n",
      "memory usage: 17.4+ MB\n"
     ]
    }
   ],
   "source": [
    "df_b.info()"
   ],
   "metadata": {
    "collapsed": false,
    "ExecuteTime": {
     "end_time": "2024-10-20T17:26:04.379084332Z",
     "start_time": "2024-10-20T17:26:04.313802623Z"
    }
   }
  },
  {
   "cell_type": "code",
   "execution_count": null,
   "outputs": [],
   "source": [
    "raise Exception"
   ],
   "metadata": {
    "collapsed": false
   }
  },
  {
   "cell_type": "code",
   "execution_count": 9,
   "outputs": [],
   "source": [
    "sentence_test = df_a.iloc[5000:6000]\n",
    "sentence_test_title = list(sentence_test['title'])\n",
    "sentence_test_desc = list(filter(lambda x: not pd.isna(x), sentence_test['description']))"
   ],
   "metadata": {
    "collapsed": false,
    "ExecuteTime": {
     "end_time": "2024-10-20T17:33:01.433159377Z",
     "start_time": "2024-10-20T17:33:01.426295423Z"
    }
   }
  },
  {
   "cell_type": "code",
   "execution_count": 49,
   "outputs": [
    {
     "name": "stdout",
     "output_type": "stream",
     "text": [
      "Use:  sergeyzh/rubert-tiny-turbo\n",
      "title\n",
      "token_size torch.Size([1000, 29])\n",
      "runtime 1000: 0:00:00.665106\n",
      "\n",
      "description\n",
      "token_size torch.Size([547, 425])\n",
      "runtime 547: 0:00:06.257252\n"
     ]
    }
   ],
   "source": [
    "from transformers import AutoTokenizer, AutoModel\n",
    "import datetime\n",
    "\n",
    "current_embedding = ebeddins_list[0]\n",
    "print(\"Use: \", current_embedding.name)\n",
    "\n",
    "tokenizer = AutoTokenizer.from_pretrained(current_embedding.name)\n",
    "model = AutoModel.from_pretrained(current_embedding.name)\n",
    "\n",
    "print('title')\n",
    "encoded_input = tokenizer(sentence_test_title, padding=True, truncation=True, return_tensors='pt')\n",
    "print('token_size', encoded_input['input_ids'].size())\n",
    "\n",
    "datetime_start = datetime.datetime.now()\n",
    "with torch.no_grad():\n",
    "    model_output = model(**encoded_input)\n",
    "    sentence_embeddings = model_output[0][:, 0]\n",
    "datetime_end = datetime.datetime.now()\n",
    "print(f'runtime {len(sentence_test_title)}: {datetime_end - datetime_start}')\n",
    "\n",
    "\n",
    "print('\\ndescription')\n",
    "encoded_input = tokenizer(sentence_test_desc, padding=True, truncation=True, return_tensors='pt')\n",
    "print('token_size', encoded_input['input_ids'].size())\n",
    "\n",
    "datetime_start = datetime.datetime.now()\n",
    "with torch.no_grad():\n",
    "    model_output = model(**encoded_input)\n",
    "    sentence_embeddings = model_output[0][:, 0]\n",
    "datetime_end = datetime.datetime.now()\n",
    "print(f'runtime {len(sentence_test_desc)}: {datetime_end - datetime_start}')\n",
    "\n",
    "# sentence_embeddings_norm = torch.nn.functional.normalize(sentence_embeddings, p=2, dim=1)"
   ],
   "metadata": {
    "collapsed": false,
    "ExecuteTime": {
     "end_time": "2024-10-20T19:30:16.222621635Z",
     "start_time": "2024-10-20T19:30:08.209629701Z"
    }
   }
  },
  {
   "cell_type": "code",
   "execution_count": 30,
   "outputs": [],
   "source": [
    "single_encoded_input = tokenizer(sentence_test_title[0], padding=True, truncation=True, return_tensors='pt')\n",
    "with torch.no_grad():\n",
    "    single_model_output = model(**encoded_input)\n",
    "    single_sentence_embeddings = model_output[0][:, 0]"
   ],
   "metadata": {
    "collapsed": false,
    "ExecuteTime": {
     "end_time": "2024-10-20T19:02:51.237235676Z",
     "start_time": "2024-10-20T19:02:44.819432158Z"
    }
   }
  },
  {
   "cell_type": "code",
   "execution_count": 39,
   "outputs": [
    {
     "name": "stdout",
     "output_type": "stream",
     "text": [
      "True\n",
      "True\n",
      "False\n"
     ]
    }
   ],
   "source": [
    "print(all(sentence_embeddings[0] == single_sentence_embeddings[0]))\n",
    "sentence_embeddings_norm = torch.nn.functional.normalize(sentence_embeddings, p=2, dim=1)\n",
    "single_sentence_embeddings_norm = torch.nn.functional.normalize(single_sentence_embeddings, p=2, dim=1)\n",
    "print(all(sentence_embeddings_norm[0] == single_sentence_embeddings_norm[0]))\n",
    "print(all(sentence_embeddings_norm[0] == sentence_embeddings[0]))"
   ],
   "metadata": {
    "collapsed": false,
    "ExecuteTime": {
     "end_time": "2024-10-20T19:07:33.236135322Z",
     "start_time": "2024-10-20T19:07:33.191770283Z"
    }
   }
  },
  {
   "cell_type": "code",
   "execution_count": 42,
   "outputs": [
    {
     "data": {
      "text/plain": "tensor([[ 0.1968,  0.0805, -0.0681,  ...,  0.6348, -0.2396, -0.0982],\n        [ 0.2096, -0.0101, -0.0631,  ...,  0.6291, -0.2470, -0.0917],\n        [ 0.1825,  0.1019, -0.0212,  ...,  0.6207, -0.2527, -0.0990],\n        ...,\n        [ 0.3311,  0.2308, -0.0581,  ...,  0.6759,  0.0426, -0.1563],\n        [ 0.2736,  0.2664, -0.0208,  ...,  0.6345,  0.0157, -0.0923],\n        [ 0.3377,  0.2336, -0.0278,  ...,  0.6733,  0.0401, -0.1745]])"
     },
     "execution_count": 42,
     "metadata": {},
     "output_type": "execute_result"
    }
   ],
   "source": [
    "sentence_embeddings"
   ],
   "metadata": {
    "collapsed": false,
    "ExecuteTime": {
     "end_time": "2024-10-20T19:15:14.704083969Z",
     "start_time": "2024-10-20T19:15:14.700502916Z"
    }
   }
  },
  {
   "cell_type": "code",
   "execution_count": 44,
   "outputs": [],
   "source": [
    "sentence_embeddings_list = sentence_embeddings.tolist()"
   ],
   "metadata": {
    "collapsed": false,
    "ExecuteTime": {
     "end_time": "2024-10-20T19:16:39.126355800Z",
     "start_time": "2024-10-20T19:16:39.050022502Z"
    }
   }
  },
  {
   "cell_type": "code",
   "execution_count": 46,
   "outputs": [
    {
     "data": {
      "text/plain": "312"
     },
     "execution_count": 46,
     "metadata": {},
     "output_type": "execute_result"
    }
   ],
   "source": [
    "len(sentence_embeddings_list[0])"
   ],
   "metadata": {
    "collapsed": false,
    "ExecuteTime": {
     "end_time": "2024-10-20T19:16:53.973752394Z",
     "start_time": "2024-10-20T19:16:53.971377574Z"
    }
   }
  }
 ],
 "metadata": {
  "colab": {
   "provenance": []
  },
  "kernelspec": {
   "name": "python3",
   "language": "python",
   "display_name": "Python 3 (ipykernel)"
  },
  "language_info": {
   "name": "python"
  }
 },
 "nbformat": 4,
 "nbformat_minor": 0
}
