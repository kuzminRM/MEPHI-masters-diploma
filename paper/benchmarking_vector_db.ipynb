{
 "cells": [
  {
   "cell_type": "markdown",
   "source": [
    "# Base part"
   ],
   "metadata": {
    "collapsed": false
   }
  },
  {
   "cell_type": "code",
   "execution_count": 1,
   "outputs": [],
   "source": [
    "import datetime\n",
    "from pydantic import BaseModel\n",
    "import abc\n",
    "import logging\n",
    "\n",
    "logger = logging.getLogger(__name__)\n",
    "\n",
    "\n",
    "class DotModel(BaseModel):\n",
    "    uid: str\n",
    "    vector: list[float]\n",
    "\n",
    "\n",
    "class VectorClient(abc.ABC):\n",
    "    @abc.abstractmethod\n",
    "    def push_dots(self, dots: list[DotModel]):\n",
    "        pass\n",
    "\n",
    "    @abc.abstractmethod\n",
    "    def get_dot(self, vector: list[float], n: int = 15) -> list[DotModel]:\n",
    "        pass\n",
    "\n",
    "    @abc.abstractmethod\n",
    "    def create_collection(self):\n",
    "        pass\n",
    "\n",
    "    def start_pushing(self):\n",
    "        self._start_pushing_time = datetime.datetime.now()\n",
    "\n",
    "    def end_pushing(self):\n",
    "        delta = datetime.datetime.now() - self._start_pushing_time\n",
    "        logger.info(f'end pushing {type(self).__name__} in {delta}')"
   ],
   "metadata": {
    "collapsed": false,
    "ExecuteTime": {
     "end_time": "2025-03-21T14:11:15.432185583Z",
     "start_time": "2025-03-21T14:11:15.339122437Z"
    }
   }
  },
  {
   "cell_type": "code",
   "execution_count": 3,
   "outputs": [
    {
     "data": {
      "text/plain": "[EmbeddingModelCsvFile(embedding_model_name=<ModelEnum.RUBERT_TINY2: 'cointegrated/rubert-tiny2'>, field=<EmbeddingsFieldsEnum.DESCRIPTION: 'description'>, embedding_size=312, file_path='/home/roman/PycharmProjects/personal/diploma/create_embeddings/data/2024-10-20_23-12_products_embeddings_STROYDVOR_description_RUBERT_TINY2.csv'),\n EmbeddingModelCsvFile(embedding_model_name=<ModelEnum.LABSE_RU_TURBO: 'sergeyzh/LaBSE-ru-turbo'>, field=<EmbeddingsFieldsEnum.DESCRIPTION: 'description'>, embedding_size=768, file_path='/home/roman/PycharmProjects/personal/diploma/create_embeddings/data/2024-10-20_23-34_products_embeddings_STROYDVOR_description_LABSE_RU_TURBO.csv'),\n EmbeddingModelCsvFile(embedding_model_name=<ModelEnum.LABSE_RU_TURBO: 'sergeyzh/LaBSE-ru-turbo'>, field=<EmbeddingsFieldsEnum.TITLE: 'title'>, embedding_size=768, file_path='/home/roman/PycharmProjects/personal/diploma/create_embeddings/data/2024-10-20_23-29_products_embeddings_STROYDVOR_title_LABSE_RU_TURBO.csv'),\n EmbeddingModelCsvFile(embedding_model_name=<ModelEnum.RUBERT_TINY_TURBO: 'sergeyzh/rubert-tiny-turbo'>, field=<EmbeddingsFieldsEnum.TITLE: 'title'>, embedding_size=312, file_path='/home/roman/PycharmProjects/personal/diploma/create_embeddings/data/2024-10-20_22-37_products_embeddings_STROYDVOR_title_RUBERT_TINY_TURBO.csv'),\n EmbeddingModelCsvFile(embedding_model_name=<ModelEnum.RUBERT_TINY2: 'cointegrated/rubert-tiny2'>, field=<EmbeddingsFieldsEnum.TITLE: 'title'>, embedding_size=312, file_path='/home/roman/PycharmProjects/personal/diploma/create_embeddings/data/2024-10-20_23-12_products_embeddings_STROYDVOR_title_RUBERT_TINY2.csv'),\n EmbeddingModelCsvFile(embedding_model_name=<ModelEnum.RUBERT_TINY2: 'cointegrated/rubert-tiny2'>, field=<EmbeddingsFieldsEnum.TITLE: 'title'>, embedding_size=312, file_path='/home/roman/PycharmProjects/personal/diploma/create_embeddings/data/2024-10-20_23-16_products_embeddings_OBI_title_RUBERT_TINY2.csv'),\n EmbeddingModelCsvFile(embedding_model_name=<ModelEnum.MULTILINGUAL_E5_LARGE_INSTRUCT: 'intfloat/multilingual-e5-large-instruct'>, field=<EmbeddingsFieldsEnum.TITLE: 'title'>, embedding_size=1024, file_path='/home/roman/PycharmProjects/personal/diploma/create_embeddings/data/2024-10-21_03-14_products_embeddings_STROYDVOR_title_MULTILINGUAL_E5_LARGE_INSTRUCT.csv'),\n EmbeddingModelCsvFile(embedding_model_name=<ModelEnum.LABSE_RU_TURBO: 'sergeyzh/LaBSE-ru-turbo'>, field=<EmbeddingsFieldsEnum.TITLE: 'title'>, embedding_size=768, file_path='/home/roman/PycharmProjects/personal/diploma/create_embeddings/data/2024-10-21_00-14_products_embeddings_OBI_title_LABSE_RU_TURBO.csv'),\n EmbeddingModelCsvFile(embedding_model_name=<ModelEnum.MULTILINGUAL_E5_LARGE_INSTRUCT: 'intfloat/multilingual-e5-large-instruct'>, field=<EmbeddingsFieldsEnum.DESCRIPTION: 'description'>, embedding_size=1024, file_path='/home/roman/PycharmProjects/personal/diploma/create_embeddings/data/2024-10-21_23-47_products_embeddings_OBI_description_MULTILINGUAL_E5_LARGE_INSTRUCT.csv'),\n EmbeddingModelCsvFile(embedding_model_name=<ModelEnum.MULTILINGUAL_E5_LARGE_INSTRUCT: 'intfloat/multilingual-e5-large-instruct'>, field=<EmbeddingsFieldsEnum.TITLE: 'title'>, embedding_size=1024, file_path='/home/roman/PycharmProjects/personal/diploma/create_embeddings/data/2024-10-21_08-35_products_embeddings_OBI_title_MULTILINGUAL_E5_LARGE_INSTRUCT.csv'),\n EmbeddingModelCsvFile(embedding_model_name=<ModelEnum.RUBERT_TINY_TURBO: 'sergeyzh/rubert-tiny-turbo'>, field=<EmbeddingsFieldsEnum.DESCRIPTION: 'description'>, embedding_size=312, file_path='/home/roman/PycharmProjects/personal/diploma/create_embeddings/data/2024-10-20_22-43_products_embeddings_OBI_description_RUBERT_TINY_TURBO.csv'),\n EmbeddingModelCsvFile(embedding_model_name=<ModelEnum.MULTILINGUAL_E5_LARGE_INSTRUCT: 'intfloat/multilingual-e5-large-instruct'>, field=<EmbeddingsFieldsEnum.DESCRIPTION: 'description'>, embedding_size=1024, file_path='/home/roman/PycharmProjects/personal/diploma/create_embeddings/data/2024-10-21_03-29_products_embeddings_STROYDVOR_description_MULTILINGUAL_E5_LARGE_INSTRUCT.csv'),\n EmbeddingModelCsvFile(embedding_model_name=<ModelEnum.RUBERT_TINY_TURBO: 'sergeyzh/rubert-tiny-turbo'>, field=<EmbeddingsFieldsEnum.TITLE: 'title'>, embedding_size=312, file_path='/home/roman/PycharmProjects/personal/diploma/create_embeddings/data/2024-10-20_22-42_products_embeddings_OBI_title_RUBERT_TINY_TURBO.csv'),\n EmbeddingModelCsvFile(embedding_model_name=<ModelEnum.RUBERT_TINY2: 'cointegrated/rubert-tiny2'>, field=<EmbeddingsFieldsEnum.DESCRIPTION: 'description'>, embedding_size=312, file_path='/home/roman/PycharmProjects/personal/diploma/create_embeddings/data/2024-10-20_23-17_products_embeddings_OBI_description_RUBERT_TINY2.csv'),\n EmbeddingModelCsvFile(embedding_model_name=<ModelEnum.RUBERT_TINY_TURBO: 'sergeyzh/rubert-tiny-turbo'>, field=<EmbeddingsFieldsEnum.DESCRIPTION: 'description'>, embedding_size=312, file_path='/home/roman/PycharmProjects/personal/diploma/create_embeddings/data/2024-10-20_22-38_products_embeddings_STROYDVOR_description_RUBERT_TINY_TURBO.csv'),\n EmbeddingModelCsvFile(embedding_model_name=<ModelEnum.LABSE_RU_TURBO: 'sergeyzh/LaBSE-ru-turbo'>, field=<EmbeddingsFieldsEnum.DESCRIPTION: 'description'>, embedding_size=768, file_path='/home/roman/PycharmProjects/personal/diploma/create_embeddings/data/2024-10-21_00-30_products_embeddings_OBI_description_LABSE_RU_TURBO.csv')]"
     },
     "execution_count": 3,
     "metadata": {},
     "output_type": "execute_result"
    }
   ],
   "source": [
    "from create_embeddings.utils import get_csv_files_info\n",
    "get_csv_files_info()"
   ],
   "metadata": {
    "collapsed": false,
    "ExecuteTime": {
     "end_time": "2025-03-21T14:11:30.256402741Z",
     "start_time": "2025-03-21T14:11:30.223161983Z"
    }
   }
  },
  {
   "cell_type": "code",
   "execution_count": null,
   "metadata": {
    "collapsed": true
   },
   "outputs": [],
   "source": [
    "from create_embeddings.schemas.embedding import ProductEmbedding, ModelEnum\n",
    "from parsers.runnures.utils.csv import CsvReader\n",
    "\n",
    "from create_embeddings.schemas.embedding_model import EmbeddingModelCsvFile\n",
    "from create_embeddings.utils import get_csv_files_info\n",
    "\n",
    "BATCH_SIZE = 100\n",
    "\n",
    "\n",
    "def populate_embeddings(client: VectorClient):\n",
    "    csv_files_info: list[EmbeddingModelCsvFile] = get_csv_files_info()\n",
    "\n",
    "    client.create_collection()\n",
    "    logger.info(f'collection created {type(client).__name__}')\n",
    "\n",
    "    i = 0\n",
    "    client.start_pushing()\n",
    "    for csv_file_info in csv_files_info:\n",
    "        if csv_file_info.embedding_model_name != ModelEnum.MULTILINGUAL_E5_LARGE_INSTRUCT or \"OBI\" not in csv_file_info.file_path:\n",
    "            continue\n",
    "\n",
    "        logger.info(f'start new file {csv_file_info.file_path.split(\"/\")[-1]}')\n",
    "\n",
    "        batch: list[DotModel] = []\n",
    "        csv_reader: CsvReader[ProductEmbedding] = CsvReader(csv_file_info.file_path, ProductEmbedding)\n",
    "        for uid_vector in csv_reader:\n",
    "            i += 1\n",
    "            batch.append(DotModel(id=uid_vector.uid, vector=uid_vector.embedding))\n",
    "            if len(batch) == BATCH_SIZE:\n",
    "                logger.info(f'uploading {i} points to {type(client).__name__}')\n",
    "                client.push_dots(batch)\n",
    "                batch = []\n",
    "\n",
    "        client.push_dots(batch)\n",
    "        batch = []\n",
    "    client.end_pushing()\n"
   ]
  },
  {
   "cell_type": "code",
   "execution_count": null,
   "outputs": [],
   "source": [
    "import time\n",
    "import asyncio\n",
    "\n",
    "TEST_DURATION = 60\n",
    "\n",
    "def call_get_dot_with_rps(client: VectorClient, rps: int):\n",
    "    now = time.time()\n",
    "    end_time =  now + TEST_DURATION\n",
    "    sleep_interval = 1/rps\n",
    "    next_call = now + sleep_interval\n",
    "\n",
    "    while now < end_time:\n",
    "        now = time.time()\n",
    "        if now >= next_call:\n",
    "            client.get_dot()\n",
    "            next_call = next_call + sleep_interval\n",
    "\n",
    "        await asyncio.sleep(sleep_interval)\n",
    "\n",
    "\n",
    "def next_point(include_random=True):\n",
    "    vector_len: int = 1024\n",
    "\n",
    "    csv_files_info: list[EmbeddingModelCsvFile] = get_csv_files_info()\n",
    "    for csv_file_info in csv_files_info:\n",
    "        if csv_file_info.embedding_model_name != ModelEnum.MULTILINGUAL_E5_LARGE_INSTRUCT or \"OBI\" not in csv_file_info.file_path:\n",
    "            continue\n",
    "\n",
    "        csv_reader: CsvReader[ProductEmbedding] = CsvReader(csv_file_info.file_path, ProductEmbedding)\n",
    "        for uid_vector in csv_reader:\n",
    "\n",
    "            yield uid_vector.embedding"
   ],
   "metadata": {
    "collapsed": false
   }
  }
 ],
 "metadata": {
  "kernelspec": {
   "display_name": "Python 3",
   "language": "python",
   "name": "python3"
  },
  "language_info": {
   "codemirror_mode": {
    "name": "ipython",
    "version": 2
   },
   "file_extension": ".py",
   "mimetype": "text/x-python",
   "name": "python",
   "nbconvert_exporter": "python",
   "pygments_lexer": "ipython2",
   "version": "2.7.6"
  }
 },
 "nbformat": 4,
 "nbformat_minor": 0
}
