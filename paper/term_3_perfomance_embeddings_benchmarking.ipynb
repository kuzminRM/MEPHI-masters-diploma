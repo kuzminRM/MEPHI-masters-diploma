{
 "cells": [
  {
   "cell_type": "code",
   "execution_count": 1,
   "metadata": {
    "collapsed": true,
    "ExecuteTime": {
     "end_time": "2024-12-28T11:39:57.310262875Z",
     "start_time": "2024-12-28T11:39:48.795622444Z"
    }
   },
   "outputs": [],
   "source": [
    "import pandas as pd\n",
    "\n",
    "df_sdv = pd.read_csv('/home/roman/PycharmProjects/personal/diploma/create_embeddings/data/2024-10-21_03-14_products_embeddings_STROYDVOR_title_MULTILINGUAL_E5_LARGE_INSTRUCT.csv')\n",
    "df_obi = pd.read_csv('/home/roman/PycharmProjects/personal/diploma/create_embeddings/data/2024-10-21_08-35_products_embeddings_OBI_title_MULTILINGUAL_E5_LARGE_INSTRUCT.csv')"
   ]
  },
  {
   "cell_type": "code",
   "execution_count": 2,
   "outputs": [],
   "source": [
    "import json\n",
    "import numpy as np\n",
    "\n",
    "embeddings_sdv = np.array(df_sdv['embedding'].apply(json.loads).tolist())\n",
    "embeddings_obi = np.array(df_obi['embedding'].apply(json.loads).tolist())"
   ],
   "metadata": {
    "collapsed": false,
    "ExecuteTime": {
     "end_time": "2024-12-28T11:40:18.709461569Z",
     "start_time": "2024-12-28T11:39:57.363989803Z"
    }
   }
  },
  {
   "cell_type": "code",
   "execution_count": 13,
   "outputs": [],
   "source": [
    "from qdrant_client import QdrantClient\n",
    "client = QdrantClient(\":memory:\")"
   ],
   "metadata": {
    "collapsed": false,
    "ExecuteTime": {
     "end_time": "2024-12-28T11:49:53.771630854Z",
     "start_time": "2024-12-28T11:49:53.765223274Z"
    }
   }
  },
  {
   "cell_type": "code",
   "execution_count": null,
   "outputs": [],
   "source": [
    "# client.close()"
   ],
   "metadata": {
    "collapsed": false
   }
  },
  {
   "cell_type": "code",
   "execution_count": 25,
   "outputs": [],
   "source": [
    "from qdrant_client.http.models import models\n",
    "from qdrant_client.http.exceptions import UnexpectedResponse\n",
    "\n",
    "BATCH_SIZE = 2500\n",
    "\n",
    "def populate_embeddings(df, data, rows_uids, collection_suffix, final_volume=0):\n",
    "    collection_name = f\"len_{final_volume or len(rows_uids)}_{collection_suffix}\"\n",
    "    try:\n",
    "        client.create_collection(\n",
    "            collection_name=collection_name,\n",
    "            vectors_config=models.VectorParams(\n",
    "                size=len(data[0]), distance=models.Distance.COSINE\n",
    "            ),\n",
    "            hnsw_config=models.HnswConfigDiff(m=64, ef_construct=512),\n",
    "            optimizers_config=models.OptimizersConfigDiff(indexing_threshold=0),\n",
    "        )\n",
    "        print(f'collection created {collection_name}')\n",
    "    except (UnexpectedResponse, ValueError) as e:\n",
    "        print(f'collection already exists {collection_name}')\n",
    "\n",
    "    batch = []\n",
    "    vectors_to_populate = data\n",
    "    for i, uid in enumerate(rows_uids):\n",
    "        index = df[df['uid'] == uid]['uid'].index\n",
    "        batch.append(models.PointStruct(\n",
    "            id=uid,\n",
    "            vector=vectors_to_populate[index],\n",
    "        ))\n",
    "\n",
    "        if len(batch) == BATCH_SIZE:\n",
    "            print(f'upload {i} points to collection {collection_name}')\n",
    "            client.upload_points(\n",
    "                collection_name=collection_name,\n",
    "                points=batch,\n",
    "            )\n",
    "            batch = []\n",
    "\n",
    "    print(f'upload {i} points to collection {collection_name}')\n",
    "    client.upload_points(\n",
    "        collection_name=collection_name,\n",
    "        points=batch,\n",
    "    )\n",
    "    batch = []\n",
    "    if final_volume > len(rows_uids):\n",
    "        populate_embeddings_by_num(df, data, collection_name, additional_volume=final_volume-len(rows_uids))\n",
    "\n",
    "    client.update_collection(\n",
    "        collection_name=collection_name,\n",
    "        optimizer_config=models.OptimizersConfigDiff(indexing_threshold=10_000),\n",
    "    )\n",
    "\n",
    "def populate_embeddings_by_num(df, data, collection_name, additional_volume, offset=5000):\n",
    "    print(f'use collection for additional_volume {collection_name}')\n",
    "    batch = []\n",
    "    vectors_to_populate = data\n",
    "    for i in range(offset, offset+additional_volume):\n",
    "        batch.append(models.PointStruct(\n",
    "            id=df['uid'][i],\n",
    "            vector=vectors_to_populate[i],\n",
    "        ))\n",
    "\n",
    "        if len(batch) == BATCH_SIZE:\n",
    "            print(f'upload {i} points to collection {collection_name}')\n",
    "            client.upload_points(\n",
    "                collection_name=collection_name,\n",
    "                points=batch,\n",
    "            )\n",
    "            batch = []\n",
    "\n",
    "    print(f'upload {i} points to collection {collection_name}')\n",
    "    client.upload_points(\n",
    "        collection_name=collection_name,\n",
    "        points=batch,\n",
    "    )\n",
    "    batch = []\n",
    "\n",
    "    client.update_collection(\n",
    "        collection_name=collection_name,\n",
    "        optimizer_config=models.OptimizersConfigDiff(indexing_threshold=10_000),\n",
    "    )"
   ],
   "metadata": {
    "collapsed": false,
    "ExecuteTime": {
     "end_time": "2024-12-28T12:10:33.024762990Z",
     "start_time": "2024-12-28T12:10:32.983255237Z"
    }
   }
  },
  {
   "cell_type": "code",
   "execution_count": 17,
   "outputs": [],
   "source": [
    "from sqlalchemy import select\n",
    "from db_populate.models import Match, Product\n",
    "from sqlalchemy.orm import Session, aliased\n",
    "from db_populate.session import db_session_as_kwarg\n",
    "\n",
    "\n",
    "@db_session_as_kwarg\n",
    "def get_mapped_products_uids(session: Session) -> list[tuple[str, str]]:\n",
    "    product_1_alias = aliased(Product)\n",
    "    product_2_alias = aliased(Product)\n",
    "\n",
    "    query_result = session.execute(\n",
    "        select(product_1_alias.uid, product_2_alias.uid)\n",
    "        .select_from(Match)\n",
    "        .join(product_1_alias, product_1_alias.id == Match.product_1_id)\n",
    "        .join(product_2_alias, product_2_alias.id == Match.product_2_id)\n",
    "    )\n",
    "\n",
    "    return query_result.all()\n",
    "\n",
    "\n",
    "products_uids = get_mapped_products_uids()"
   ],
   "metadata": {
    "collapsed": false,
    "ExecuteTime": {
     "end_time": "2024-12-28T11:57:02.668511107Z",
     "start_time": "2024-12-28T11:57:02.664193803Z"
    }
   }
  },
  {
   "cell_type": "code",
   "execution_count": 18,
   "outputs": [
    {
     "name": "stdout",
     "output_type": "stream",
     "text": [
      "collection already exists len_100_sdv\n",
      "upload 99 points to collection len_100_sdv\n",
      "collection already exists len_100_obi\n",
      "upload 99 points to collection len_100_obi\n",
      "collection created len_1000_obi\n",
      "upload 99 points to collection len_1000_obi\n",
      "use collection for additional_volume len_1000_obi\n",
      "upload 5899 points to collection len_1000_obi\n"
     ]
    }
   ],
   "source": [
    "populate_embeddings(df_sdv, embeddings_sdv, np.array(products_uids[:100])[:, 0], \"sdv\")\n",
    "populate_embeddings(df_obi, embeddings_obi, np.array(products_uids[:100])[:, 1], \"obi\")\n",
    "populate_embeddings(df_obi, embeddings_obi, np.array(products_uids[:100])[:, 1], \"obi\", final_volume=1000)"
   ],
   "metadata": {
    "collapsed": false,
    "ExecuteTime": {
     "end_time": "2024-12-28T11:57:06.925212654Z",
     "start_time": "2024-12-28T11:57:05.626135897Z"
    }
   }
  },
  {
   "cell_type": "code",
   "execution_count": 19,
   "outputs": [],
   "source": [
    "def drop_collections():\n",
    "    for collection_name in [x.name for x in client.get_collections().collections]:\n",
    "        client.delete_collection(collection_name)"
   ],
   "metadata": {
    "collapsed": false,
    "ExecuteTime": {
     "end_time": "2024-12-28T12:03:16.829290303Z",
     "start_time": "2024-12-28T12:03:16.822887679Z"
    }
   }
  },
  {
   "cell_type": "code",
   "execution_count": 23,
   "outputs": [],
   "source": [
    "drop_collections()"
   ],
   "metadata": {
    "collapsed": false,
    "ExecuteTime": {
     "end_time": "2024-12-28T12:09:22.604780167Z",
     "start_time": "2024-12-28T12:09:22.561137047Z"
    }
   }
  },
  {
   "cell_type": "code",
   "execution_count": 33,
   "outputs": [],
   "source": [
    "from qdrant_client.http.models import ScoredPoint, Record\n",
    "\n",
    "\n",
    "def query_product_suggestions(uid: str, collection_name_l: str, collection_name_r: str, limit: int = 10) -> list[ScoredPoint]:\n",
    "    vector_data_list_tiny_turbo = client.retrieve(\n",
    "        collection_name=collection_name_l,\n",
    "        ids=[uid],\n",
    "        with_vectors=True\n",
    "    )\n",
    "    if len(vector_data_list_tiny_turbo) != 1:\n",
    "        ValueError(f'Wrong number of vectors. Expected 1, got {len(vector_data_list_tiny_turbo)}')\n",
    "    vector_data: Record = vector_data_list_tiny_turbo[0]\n",
    "    hits: list[ScoredPoint] = client.query_points(\n",
    "        collection_name=collection_name_r,\n",
    "        query=vector_data.vector,\n",
    "        limit=limit,\n",
    "    ).points\n",
    "    return hits"
   ],
   "metadata": {
    "collapsed": false,
    "ExecuteTime": {
     "end_time": "2024-12-28T12:14:41.099543974Z",
     "start_time": "2024-12-28T12:14:41.040604084Z"
    }
   }
  },
  {
   "cell_type": "code",
   "execution_count": 35,
   "outputs": [
    {
     "name": "stdout",
     "output_type": "stream",
     "text": [
      "\n",
      "\n",
      "############# 100 x 100\n",
      "collection created len_100_sdv\n",
      "upload 99 points to collection len_100_sdv\n",
      "collection created len_100_obi\n",
      "upload 99 points to collection len_100_obi\n",
      "finished: 100 in 0.06448197364807129 [with db populate 0.3677499294281006 Δ=0.3032679557800293]\n",
      "\n",
      "\n",
      "############# 100 x 1000\n",
      "collection created len_100_sdv\n",
      "upload 99 points to collection len_100_sdv\n",
      "collection created len_1000_obi\n",
      "upload 99 points to collection len_1000_obi\n",
      "use collection for additional_volume len_1000_obi\n",
      "upload 5899 points to collection len_1000_obi\n",
      "finished: 100 in 0.1770951747894287 [with db populate 1.2901403903961182 Δ=1.1130452156066895]\n",
      "\n",
      "\n",
      "############# 1000 x 1000\n",
      "collection created len_1000_sdv\n",
      "upload 106 points to collection len_1000_sdv\n",
      "use collection for additional_volume len_1000_sdv\n",
      "upload 5892 points to collection len_1000_sdv\n",
      "collection created len_1000_obi\n",
      "upload 106 points to collection len_1000_obi\n",
      "use collection for additional_volume len_1000_obi\n",
      "upload 5892 points to collection len_1000_obi\n",
      "finished: 106 in 0.2647435665130615 [with db populate 2.030566453933716 Δ=1.7658228874206543]\n"
     ]
    }
   ],
   "source": [
    "import time\n",
    "from collections import defaultdict\n",
    "\n",
    "MAX_HITS_TO_RETURN = 10\n",
    "quantity = ((100, 100), (100, 1000), (1000, 1000))\n",
    "result = defaultdict(lambda : 0)\n",
    "\n",
    "for size_sdv, size_obi in quantity:\n",
    "    print(f\"\\n\\n############# {size_sdv} x {size_obi}\")\n",
    "    collection_name_l = f\"len_{size_sdv}_sdv\"\n",
    "    collection_name_r = f\"len_{size_obi}_obi\"\n",
    "\n",
    "    time_start_0 = time.time()\n",
    "\n",
    "    populate_embeddings(df_sdv, embeddings_sdv, np.array(products_uids[:size_sdv])[:, 0], \"sdv\", final_volume=size_sdv)\n",
    "    populate_embeddings(df_obi, embeddings_obi, np.array(products_uids[:size_sdv])[:, 1], \"obi\", final_volume=size_obi)\n",
    "\n",
    "    time_start_1 = time.time()\n",
    "\n",
    "    for product_1_uid, product_2_uid in products_uids[:size_sdv]:\n",
    "        hits: list[ScoredPoint] = query_product_suggestions(product_1_uid, collection_name_l, collection_name_r, limit=MAX_HITS_TO_RETURN)\n",
    "        hits_uids = [hit.id for hit in hits]\n",
    "        if product_2_uid in hits_uids:\n",
    "            result[f'{size_sdv} x {size_obi}'] += 1\n",
    "\n",
    "    time_finish = time.time()\n",
    "\n",
    "    print(f\"finished: {result[f'{size_sdv} x {size_obi}']} in {time_finish - time_start_1} [with db populate {time_finish - time_start_0} Δ={time_start_1-time_start_0}]\")\n",
    "    drop_collections()"
   ],
   "metadata": {
    "collapsed": false,
    "ExecuteTime": {
     "end_time": "2024-12-28T12:16:20.881513352Z",
     "start_time": "2024-12-28T12:16:17.192561116Z"
    }
   }
  },
  {
   "cell_type": "code",
   "execution_count": 36,
   "outputs": [
    {
     "name": "stdout",
     "output_type": "stream",
     "text": [
      "6.4e-06\n",
      "1.77e-06\n",
      "2.6400000000000003e-07\n"
     ]
    }
   ],
   "source": [
    "print(0.064 / (100*100))\n",
    "print(0.177 / (100*1000))\n",
    "print(0.265 / (1000*1000))"
   ],
   "metadata": {
    "collapsed": false,
    "ExecuteTime": {
     "end_time": "2024-12-28T12:18:21.780995703Z",
     "start_time": "2024-12-28T12:18:21.737279607Z"
    }
   }
  },
  {
   "cell_type": "code",
   "execution_count": 37,
   "outputs": [
    {
     "data": {
      "text/plain": "defaultdict(<function __main__.<lambda>()>,\n            {'100 x 100': 100, '100 x 1000': 100, '1000 x 1000': 106})"
     },
     "execution_count": 37,
     "metadata": {},
     "output_type": "execute_result"
    }
   ],
   "source": [
    "result"
   ],
   "metadata": {
    "collapsed": false,
    "ExecuteTime": {
     "end_time": "2024-12-28T12:58:38.464428154Z",
     "start_time": "2024-12-28T12:58:38.462010435Z"
    }
   }
  },
  {
   "cell_type": "code",
   "execution_count": 38,
   "outputs": [
    {
     "data": {
      "text/plain": "[('cdee09a0-048a-4993-83fa-3671caf8f23e', 'a136378b-391f-4c45-ac3c-de3e511a66e5'),\n ('3813c723-075e-4031-ab1d-2b87a750539b', '00a124fe-f5eb-406a-8cca-983f9aace1cf'),\n ('be6ea243-36db-4e46-a2d9-c808e1798a70', 'a02af0c7-3cfa-480e-80a2-f71c24160a04'),\n ('91b92163-8053-47b5-8fc8-8b41ace4c11b', '55ad5aa6-cfcc-442b-aeb8-647d847caa2c'),\n ('7beaaee0-cabe-4d85-b104-06e564c9c3b8', 'd69fe655-8a7f-45e3-8837-17d4fe81e189'),\n ('f7afd5ac-61d4-4a58-896e-c6774c802726', '740e8bb8-4aef-4157-bc24-a2672b5c5db2'),\n ('00f17caa-e7f1-4d71-b3fe-b8af5ebcd12d', '20fc3cb5-0997-4742-a90c-fc80c6f9c343'),\n ('100e0711-0d4a-4330-bb21-fcc71dea663b', '266fb40f-d473-4351-90a2-7ef4d49e0e42'),\n ('7748ca37-e7de-45e4-add1-58ccd7eb1d0b', '84cb6e34-673a-43b9-9752-b1bcb88911ac'),\n ('f97ee8f7-8056-47b4-8034-4b566b2debe0', 'c75a2a44-a747-490d-a7c1-70c57ff24088'),\n ('bfe3a41e-8947-460f-94d9-38778601f7e8', '20fc3cb5-0997-4742-a90c-fc80c6f9c343'),\n ('0c7f3c0b-a8d5-412a-93c7-7acb562a6b6b', '68490869-03e9-49cc-a75b-15145fbe6eb7'),\n ('5be4a786-7868-4eb2-9e2a-48dd0eb817f3', 'a800c93f-43c5-4361-8c81-2f78a5978e15'),\n ('0453ff66-8575-4954-b85c-c14c1921d802', '266fb40f-d473-4351-90a2-7ef4d49e0e42'),\n ('8630916e-f13b-4f68-9d9d-6db002def9eb', '1a84c46f-cdcd-4ef5-85c6-3f81084fc8e3'),\n ('fb934190-cdfd-47da-9ee5-b71b81c203da', 'aac3b419-ea37-4a0e-8006-d6b85237e720'),\n ('a4ecd438-8369-4e5c-bb89-f0e62c9532db', 'aac3b419-ea37-4a0e-8006-d6b85237e720'),\n ('0c4d0daf-aba2-4bed-a2e2-392ab4be73db', 'aac3b419-ea37-4a0e-8006-d6b85237e720'),\n ('e0fae9dd-07be-415d-9ce3-f33aa8a367c8', '5895fd37-1963-49f7-ada3-2610139b04a8'),\n ('8b3415dd-1a63-4d7b-a2c7-0a3cbc4c7762', 'aac3b419-ea37-4a0e-8006-d6b85237e720'),\n ('d21c949e-e4de-4002-bb32-68cc32440fe7', 'aac3b419-ea37-4a0e-8006-d6b85237e720'),\n ('eb98d518-e779-4464-a9ad-7341d070823b', 'aac3b419-ea37-4a0e-8006-d6b85237e720'),\n ('60e3dad4-94b6-40fe-88de-4be1df492f90', '5895fd37-1963-49f7-ada3-2610139b04a8'),\n ('1441859b-635b-47a2-a2e9-08caf35e3066', '2e6e8509-3339-4f73-86aa-973e70788d55'),\n ('5369a9bb-4580-436a-a63e-203872abf4fd', '2e6e8509-3339-4f73-86aa-973e70788d55'),\n ('a44311a0-5872-4602-9296-210f7bfdfe6a', '319e44c0-34fc-40fd-9645-acfb5f006ce4'),\n ('90810bfb-ba8d-4130-b4f1-ac5012769172', 'a65702b9-6cc3-4618-ab66-f93de7680d9f'),\n ('e26f0dfe-80f0-47ef-95b8-ae393bb09d35', '28f28934-5df5-42b8-aa57-d441ce2c591c'),\n ('23619b19-53df-45ab-a3ac-232a0f577ef5', 'd1c6815d-8718-4640-a711-b1f0789b1500'),\n ('0b16a312-d673-4a12-8513-e5ea65e3e4b6', '11c3b3f6-931f-4b2e-bc91-2390eb4ede60'),\n ('f042d4a6-8a8c-4636-82ae-0173ef6e5bcc', '36edbfaf-02ed-4c5f-8e53-d91e59a4b9f3'),\n ('64e2afa0-53af-40a5-9694-8d0ab1c43f0d', '5526fe22-3534-4331-a14a-2871eda81786'),\n ('02f111d1-e02e-46c0-aa04-26fa4fcfa584', '0467a15b-f7f3-408a-89c2-5acc6eeeb13b'),\n ('02f111d1-e02e-46c0-aa04-26fa4fcfa584', '0467a15b-f7f3-408a-89c2-5acc6eeeb13b'),\n ('795a09c7-bf62-40c6-b5fe-2f08b92614ab', '431b2d55-a2a0-4865-a0c3-b1b9e6837ed9'),\n ('f305db80-1b11-486f-8b4b-707086c2e759', 'dc52949e-e65f-40a1-a824-66f37d2256d9'),\n ('8abb0f83-7bcd-465e-bb59-73590e3750ce', '2dacd659-fb0f-4e3b-be2b-c29db680e100'),\n ('35b97fd7-d15e-4626-af5f-3ccaf9e591f0', 'e1a905d8-f413-4d80-a7c5-3119d53c7e79'),\n ('650a5c7b-c86c-474b-a72e-3a27d2d83e19', 'b37afb45-1eeb-4b66-8976-7237a551a97a'),\n ('19907299-fb93-49fa-889f-5de8bcf09e3e', '73194892-5d84-47ab-83c5-2bdf0d503216'),\n ('77197b9c-daf9-4c22-847b-96937833efba', '35495283-cf55-4a2c-ba36-995f256b7402'),\n ('bae31703-ab8b-421b-b0ed-88bb85374ed6', '9eeca012-e10c-464a-a712-ecd115b63209'),\n ('60f4fca1-5fbe-47c9-8b90-5f6859832475', '038bd310-a2b7-4313-addd-7cd87c98e2fb'),\n ('a18ed1a0-c51c-4dcd-b34f-1ee2a0fb70e8', 'ac2c3209-43c3-4da2-b604-86fc9360eecc'),\n ('ec37ed2b-e09d-4649-bcb6-54cca4c3247a', 'a6fb6f3c-d38c-4baa-b07e-16f35088ad35'),\n ('618faee1-100d-48a5-969b-ca57fbbe2c96', '776386b1-97e5-4d2d-8e4d-2a9bb87e2a67'),\n ('aca82c55-c532-4b2e-95a6-41a14164391f', 'd491cb00-40d0-44e7-b93c-5105c664c928'),\n ('87ec41d7-fc23-4ee1-aa38-a919a1b93c08', '272bdb91-1c44-4b9e-a8c6-baa653461619'),\n ('232fe8b2-0a34-4120-8db0-2e311a380502', '05373026-bd0c-4e7b-a053-b837fc283025'),\n ('23b0a98c-bd7c-46ee-aa2f-e48fdd31cded', 'a3daa571-7207-4b1d-a59c-e1e55e963eb1'),\n ('60f02a9f-6d46-49cf-be15-56e0d8891199', '89a8af10-b4f2-4584-aeae-b17dfaa19462'),\n ('70e17a18-98c6-4ca9-87f0-0c36a0198c9e', '9b1f13c2-dc98-498a-a148-c55303256427'),\n ('d7de2609-3fa6-493b-9a69-50536c92264a', '3d0c3c47-8d63-4e2f-8e50-f813b91bfa15'),\n ('f27cea83-209b-49a2-aacf-d11c5ea57a91', 'c1e63d4b-dd31-4c1f-8d16-df821c03ecff'),\n ('9829dca1-1e85-44bc-a1ca-1d013508ef26', 'af607c36-852f-4edf-8be0-f08b4f1ff34f'),\n ('5fe8afda-0c3e-484f-99d6-975020c75f78', 'f6c77cfa-48e4-4c5f-82fe-3619f6c3c893'),\n ('5036f7e4-0f45-4bbc-8d30-ab623c7d259f', '3e7ed202-39fb-4b4f-9bb7-81e040d709e1'),\n ('343817ee-baae-40bd-8138-186bed58d47c', 'fecb5326-de61-42c3-ad77-fd3eb666fe63'),\n ('1117c6af-bde3-4de4-b167-96974c36e990', 'a1c2e07f-a921-46fe-8f05-7feefb4b2948'),\n ('7e8eba16-4e7b-418a-a48f-7f7f030db56b', '67b7b887-eb9c-4e2b-8a80-957de62946b6'),\n ('69058c7d-5f25-4927-89e1-e823907f2605', '5aebcf96-733c-4d92-b232-30a90588c182'),\n ('3301aab8-0a1d-400c-9eea-75826ca3e4fa', '5759c73d-6606-4e03-bd07-72ad33e4e33d'),\n ('86ba1012-f78b-4287-9aa6-e912e2ddc718', 'efe0cab0-4c9e-4e50-8fa4-067041fe86c5'),\n ('2ba6ae28-3329-4835-847b-3054f44f6a4e', '72cfff4d-e362-4102-b91e-b9c5e0294c70'),\n ('159650dd-3f66-4c49-a8fc-e2d4f199fddf', '39e73335-02b9-4cf9-938b-3704c312cd94'),\n ('e036d7cf-cea5-4d25-8351-86958b8f67a8', 'cfe46637-e2de-4b10-bcd9-2b41189f7405'),\n ('d18aa17e-acb1-4c73-8afd-1e78055375d3', '07c9cdd0-199b-43ab-8708-d54609aa4eea'),\n ('f71ad8e8-f2e9-4dd9-9782-99bd7e44cdba', 'caaf93e3-6fa5-4301-8f1c-44bec7e0b3cb'),\n ('8f0f2cd1-957a-44bc-a916-c83e839aa5dc', 'ae113c2f-a853-4624-a328-6ee22fba030c'),\n ('6413aee9-22c1-4502-b112-375446c585b3', '159e4ae6-f5fe-4f00-969e-6ec49c02449c'),\n ('3bf27e42-5889-4744-a3fe-f7e40afe8e8a', 'ea0db09e-27ed-4304-857a-d893d5d3d96b'),\n ('e946c505-a114-4ba2-bd65-ba38d485d510', 'a9f424e7-293c-49a7-aa3a-7fc1c8e9259a'),\n ('4fae6483-0177-4c63-a436-9dcaeaf33f43', '58015323-4523-4194-9506-78e106534c6a'),\n ('01cc977c-be61-474a-b87d-fbe6fad96503', '2de9b38d-6e97-4ec0-aa52-b29d2ac30d34'),\n ('31bac122-9ab7-4cb0-869a-45e6a1ac413f', '4c60ed9d-8206-4179-a016-30791b5b56d4'),\n ('ed3f4e57-8f8f-457e-8bc7-59d06f8a77ea', '7876cc6d-a69c-468e-9cf6-9b144c69358f'),\n ('a2d05e6c-bb76-4e29-b5bf-01d46f9d0b74', '3fcd79de-fe66-423f-9dc8-cf9720eb4b3a'),\n ('bd27c87d-a671-4a2a-b77c-41b54a977767', '8fbfdc97-13c1-4cd0-bf95-f489d2959188'),\n ('c6b56a4a-7d52-4a25-9f37-e6ad4d35a7ff', '68c6ba7b-1963-476e-9566-65ef77c586fa'),\n ('fb189de6-dd16-460c-aae9-e17b1d36ea89', 'ae782ad3-58b7-486a-b476-48e00a313344'),\n ('c6710fc7-ec92-4505-a7d6-625f95751523', '1e8f681e-eb3c-424f-9863-a799ee399bb2'),\n ('50dc8624-63d0-49ee-9dd8-0eedf4faa46d', '156cc8ec-cb95-4fd1-a531-bf8311f1a2a0'),\n ('1cd8309b-3f41-4d78-aa9c-c2d0aec8218a', '7cc99c72-614c-4a6e-8c5d-8988d314c80e'),\n ('2db2122a-b16d-4a96-b47b-eaa10b9f6adf', '51fc19fa-8ed2-496a-a1b0-7bc4d0f0f4b5'),\n ('ec1d8d93-cdfc-4b47-8531-86d8528b32ee', '25ffb299-a9a5-4520-9154-be83c43c4113'),\n ('d0a9a461-aeb4-428f-8e16-a6914df2617a', '5cb62ae1-9755-4469-b43c-690e797baf9f'),\n ('24db31ab-a160-41b8-98f8-b3994c4ed12c', '21096f83-ae57-41d8-9f01-f608eb052cf9'),\n ('cb96906a-55f6-4548-8f31-ffb2cafcb0cf', 'fdcf0a2d-5c03-4e1f-88a7-7df984b0dbee'),\n ('88752431-2f7b-4a90-a838-c7806b4ba244', '3282a30f-0aaa-4cdd-976b-aa3f5e95515c'),\n ('f115ce7c-2441-4b10-bb33-07d37f634fb7', 'f1303f0b-2b6d-4f31-afb1-0f8a3c7b0797'),\n ('515465d8-1608-4627-9764-0bf011f046f0', '0068287c-f587-4524-be20-ccb7ee7c31f8'),\n ('e77824a6-6044-42f9-8d2b-4fe55234eb95', 'fd5f9051-a8d6-4593-93d8-56f5281aa8c2'),\n ('c881a7f1-005a-4429-9898-272bcf8d9427', 'f1673ad3-ee09-4146-bc3a-b4b57729a4c7'),\n ('a124c84d-95ca-4f01-a823-9cc03e72ac49', '434caca1-65c0-4b80-b587-250cd9312f62'),\n ('7b79cd4c-6848-4b0d-99de-d65d016c5224', '1eaa49a9-90b4-4445-ad32-ced582fd7e30'),\n ('f82b2ebf-7167-4ebb-a832-8dbea5eabeda', '8567704b-874c-4e7a-9aa1-f22bc2d3666a'),\n ('8ca0426c-fed3-43d5-8307-5318ca791bcb', 'f2d36ae0-d764-4040-b6f1-d230ad5fe64a'),\n ('38869303-29b8-4f37-9dcc-dbebc5cd5237', 'e2e0927c-2aaa-4812-bb9f-cf79b6600822'),\n ('a13b775b-ceb8-4876-bcae-f834f198466c', '1a144f3b-0402-4f80-99b9-13bb0a9bd006'),\n ('48dba4b0-88b0-4386-985e-1743b5af06b6', 'b035ff2d-0767-4982-8824-2aa6c3c775ef'),\n ('6f5e8761-229a-4277-9d8f-cfd3b1b1d710', 'c60438b7-69aa-4466-9501-3ad0ba9e47a1'),\n ('2bbe46fb-d6a6-4b0f-9593-0689039597e8', '8445ab09-7628-40ed-be5a-0fb3175ac606'),\n ('75ad3fd0-e7e7-440a-9231-195f04a7d902', 'e3f6688f-8833-4914-ac7a-8d02a7ef6060'),\n ('c716605e-29c9-4d0b-91fd-67d70771ccb8', '2f54ae66-be0b-4e84-a6e3-4bcaba78ed5e'),\n ('3ed17c8c-4030-4361-9f0e-c1c589c70345', 'f0e8ba6f-e00a-4332-99c5-4bf894614bfa'),\n ('b3dc11a2-2fd6-4431-96b3-b853b9096c75', '8af86103-e85c-47f6-9960-9a54fddadc00'),\n ('db3a48f8-ac9b-47b5-8d44-b7456d60bb64', '2f5df143-3abf-41e1-b15e-5f9ea1c0acf6')]"
     },
     "execution_count": 38,
     "metadata": {},
     "output_type": "execute_result"
    }
   ],
   "source": [
    "products_uids"
   ],
   "metadata": {
    "collapsed": false,
    "ExecuteTime": {
     "end_time": "2024-12-28T14:02:10.197431892Z",
     "start_time": "2024-12-28T14:02:10.195103240Z"
    }
   }
  }
 ],
 "metadata": {
  "kernelspec": {
   "display_name": "Python 3",
   "language": "python",
   "name": "python3"
  },
  "language_info": {
   "codemirror_mode": {
    "name": "ipython",
    "version": 2
   },
   "file_extension": ".py",
   "mimetype": "text/x-python",
   "name": "python",
   "nbconvert_exporter": "python",
   "pygments_lexer": "ipython2",
   "version": "2.7.6"
  }
 },
 "nbformat": 4,
 "nbformat_minor": 0
}
